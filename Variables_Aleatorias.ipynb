{
  "nbformat": 4,
  "nbformat_minor": 0,
  "metadata": {
    "colab": {
      "provenance": [],
      "include_colab_link": true
    },
    "kernelspec": {
      "name": "python3",
      "display_name": "Python 3"
    },
    "language_info": {
      "name": "python"
    }
  },
  "cells": [
    {
      "cell_type": "markdown",
      "metadata": {
        "id": "view-in-github",
        "colab_type": "text"
      },
      "source": [
        "<a href=\"https://colab.research.google.com/github/VivianaRobles/Modelos-Estad-sticos-/blob/main/Variables_Aleatorias.ipynb\" target=\"_parent\"><img src=\"https://colab.research.google.com/assets/colab-badge.svg\" alt=\"Open In Colab\"/></a>"
      ]
    },
    {
      "cell_type": "markdown",
      "source": [
        "# **Equipo 7**\n",
        "\n",
        "**Integrantes**\n",
        "* Camacho Herrera Jesús Salvador\n",
        "* Flores Solis Eduardo Elías\n",
        "* Garcia Robles Viviana\n",
        "* Mendoza López Luis Ángel\n",
        "\n",
        "\n",
        "\n",
        "\n"
      ],
      "metadata": {
        "id": "MOgVGyRCLSWw"
      }
    },
    {
      "cell_type": "markdown",
      "source": [
        "## Dependencias"
      ],
      "metadata": {
        "id": "cbhSr-_tfKa3"
      }
    },
    {
      "cell_type": "code",
      "source": [
        "import numpy as np  # Importa la biblioteca NumPy, que se usa para operaciones matemáticas y manejo de arrays.\n",
        "import numpy.random as npr  # Importa el módulo de generación de números aleatorios de NumPy para facilitar el acceso a sus funciones.\n",
        "import scipy.stats as sps  # Importa la biblioteca scipy.stats que proporciona funciones estadísticas.\n",
        "import matplotlib.pyplot as plt  # Importa la biblioteca matplotlib.pyplot, que se usa para crear gráficos.\n",
        "import random  # Importa el módulo random de Python, que se usa para generar números aleatorios.\n",
        "import warnings  # Importa el módulo warnings para manejar advertencias en el código.\n",
        "warnings.filterwarnings(\"ignore\")  # Ignora todas las advertencias, esto puede ser útil para mantener el output limpio cuando se sabe que las advertencias no afectan el resultado."
      ],
      "metadata": {
        "id": "4i41n8GlbsiY"
      },
      "execution_count": null,
      "outputs": []
    },
    {
      "cell_type": "markdown",
      "source": [
        "___"
      ],
      "metadata": {
        "id": "4WwqH2knf_Gv"
      }
    },
    {
      "cell_type": "markdown",
      "source": [
        "## $\\color{red}{\\text{Ejercicio 1.}}$\n",
        "\n",
        "**Verifica que, en efecto, la esperanza y varianza de una variable aleatoria uniforme está dada como aparece en el material revisado.**"
      ],
      "metadata": {
        "id": "4L_u1ky6NNf9"
      }
    },
    {
      "cell_type": "markdown",
      "source": [
        "### **Solución**.\n",
        "Considerando el material proporcionado, debemos demostrar los resultados de la esperanza y varianza de una variable aleatoria $X\\sim Unif(1,\\dots,n).$\n",
        "<br>\n",
        "Sabemos que si $X\\sim Unif(1,\\dots,n)$ su función de masa de probabilidades con está dada por\n",
        "$$f_{X}(k)=\\mathbb{P}(X=k)=\\begin{cases}\n",
        "\\frac{1}{n} &\\quad \\text{si } k\\in\\{1,\\dots,n\\} \\\\\n",
        "0 &\\quad \\text{en otro caso}\n",
        "\\end{cases}$$\n",
        "<br>\n",
        "Para demostrar los valores de la esperaza y varianza respectivamente, debemos tener presente los siguientes resultados ya que serán de gran importancia para las demostraciones:\n",
        "\n",
        "***Sumas Relevantes***\n",
        "$$\n",
        "\\sum_{k=1}^{n}k=\\frac{n(n+1)}{2}\\\\\n",
        "\\sum_{k=1}^{n}k^2=\\frac{n(n+1)(2n+1)}{6}\n",
        "$$\n",
        "<br>"
      ],
      "metadata": {
        "id": "8x_K7qOaGyT1"
      }
    },
    {
      "cell_type": "markdown",
      "source": [
        "####**Esperanza**\n",
        "\n",
        "Para la esperanza de nuestra v.a. **$X$** tendremos que:\n",
        "$$\\mathbb{E}[X]= \\sum_{k=1}^{n}kf_{X}(k)=\\sum_{k=1}^{n}k\\left(\\frac{1}{n}\\right)=\\frac{1}{n}\\sum_{k=1}^{n}k=\\frac{1}{n}\\sum_{k=0}^{n-1}(k+1)$$\n",
        "$$ \\begin{align*}\n",
        "\\Rightarrow \\mathbb{E}[X]&=\\frac{1}{n}\\sum_{k=0}^{n-1}(k+1)\\\\\n",
        "&=\\frac{1}{n}\\left[\\sum_{k=0}^{n-1}k+\\sum_{k=0}^{n-1}1\\right]\\\\\n",
        "&=\\frac{1}{n}\\left[\\frac{(n-1)((n-1)+1)}{2}+n\\right]\\\\\n",
        "&=\\frac{1}{n}\\left[\\frac{(n-1)(n)}{2}+n\\right]\\\\\n",
        "&=\\frac{1}{n}\\left[\\frac{n(n-1)+2n}{2}\\right]\\\\\n",
        "&=\\frac{1}{n}\\left[\\frac{n(n-1+2)}{2}\\right]\\\\\n",
        "&=\\frac{n-1+2}{2}\\\\\n",
        "&=\\frac{n+1}{2}\\\\\n",
        "\\end{align*}\n",
        "$$\n",
        "<br>\n",
        "\n",
        "\n",
        "$$\n",
        "\\Large\n",
        "\\begin{array}{|c|}\n",
        "\\hline\n",
        "\\therefore \\;\\; \\mathbb{E}[X] = \\frac{n + 1}{2} \\\\\n",
        "\\hline\n",
        "\\end{array}\n",
        "$$\n"
      ],
      "metadata": {
        "id": "M0NYzgA5fH61"
      }
    },
    {
      "cell_type": "markdown",
      "source": [
        "####**Varianza**\n",
        "\n",
        "Para la varianza de nuestra v.a. **$X$** tendremos que:\n",
        "\n",
        "$$ \\begin{align*}\n",
        "\\mathbb{Var}[X]&= \\sum_{k=1}^{n}\\left(k-\\mathbb{E}(X)\\right)^2f_{X}(k)\\\\\n",
        "&=\\sum_{k=1}^{n}\\left(k-\\frac{n+1}{2}\\right)^2 \\frac{1}{n}\\\\\n",
        "&=\\sum_{k=1}^{n}\\frac{1}{n}[k^2-k(n+1)+\\frac{(n+1)^2}{4}]\\\\\n",
        "&=\\frac{1}{n}\\sum_{k=1}^{n}k^2 - \\frac{1}{n}(n+1)\\sum_{k=1}^{n}k + \\frac{1}{4n}\\sum_{k=1}^{n}(n+1)^2\\\\\n",
        "&= \\frac{1}{n} \\frac{n(n+1)(2n+1)}{6} -  \\frac{n+1}{n} \\frac{n(n+1)}{2} + \\frac{1}{4n}n(n+1)^2\\\\\n",
        "&=  \\frac{(n+1)(2n+1)}{6} -  \\frac{(n+1)^2}{2} + \\frac{1}{4}(n+1)^2\\\\\n",
        "&=  \\frac{(n+1)(2n+1)}{6} -  \\frac{(n+1)^2}{4}\\\\\n",
        "&=  \\frac{4(n+1)(2n+1) -6(n+1)^2}{24}\\\\\n",
        "&=  \\frac{2(n+1)(n-1)}{24}\\\\\n",
        "&=  \\frac{n^2-1}{12}\\\\\n",
        "\\end{align*}\n",
        "$$\n",
        "\n",
        "$$\n",
        "\\Large\n",
        "\\begin{array}{|c|}\n",
        "\\hline\n",
        "\\therefore \\;\\; \\mathbb{Var}[X] = \\frac{n^2-1}{12} \\\\\n",
        "\\hline\n",
        "\\end{array}\n",
        "$$"
      ],
      "metadata": {
        "id": "Nco-lwEXXFyZ"
      }
    },
    {
      "cell_type": "markdown",
      "source": [
        "## $\\color{red}{\\text{Ejercicio 2.}}$\n",
        "\n",
        "**Dibuja a la función de distribución acumulada de la variable aleatoria:**\n",
        "**$$S:\\{1,2,3,4,5,6\\}^{2}\\to \\{2, 3, 4, 5, 6, 7, 8, 9, 10, 11, 12 \\}$$**\n",
        "**dada por $S(i,j)=i+j.$**\n"
      ],
      "metadata": {
        "id": "3s_7syjGkB8s"
      }
    },
    {
      "cell_type": "markdown",
      "source": [
        "### **Solución.**"
      ],
      "metadata": {
        "id": "XBYWaut4G436"
      }
    },
    {
      "cell_type": "markdown",
      "source": [
        "Por la primer tarea sabemos que la ley de $S$ está dada de la siguiente forma:\n",
        "\n",
        "$$\\mathbb{P}(S=k)= \\left\\{ \\begin{array}{lcc} 1/36 & si & k = 2 \\\\ \\\\ 1/18 & si & k=3 \\\\ \\\\ 1/12 & si & k=4 \\\\ \\\\ 1/9 & si & k=5 \\\\ \\\\ 5/36 & si & k=6 \\\\ \\\\ 1/6 & si & k=7 \\\\ \\\\ 5/36 & si & k=8 \\\\ \\\\ 1/9 & si & k=9 \\\\ \\\\ 1/12 & si & k=10 \\\\ \\\\ 1/18 & si & k=11 \\\\ \\\\ 1/36 & si & k=12 \\end{array} \\right.$$"
      ],
      "metadata": {
        "id": "kSj4wdacG7Zz"
      }
    },
    {
      "cell_type": "markdown",
      "source": [
        "Ahora, recordemos que la función de distribución acumulada para el caso discreto se define de la siguiente forma:\n",
        "\n",
        "$$\\mathbb{P}(S\\leq s) = \\sum_{k \\leq s}^{} \\mathbb{P}(S=k)$$\n",
        "\n",
        "De modo que, la *fda* de $S$ es la siguiente:\n",
        "\n",
        "$$\\mathbb{P}(S \\leq k)= \\left\\{ \\begin{array}{lcc} 0 & si & k < 2 \\\\ \\\\ 1/36 & si & 2 \\leq k < 3 \\\\ \\\\ 1/12 & si & 3 \\leq k < 4 \\\\ \\\\ 1/6 & si & 4 \\leq k < 5 \\\\ \\\\ 5/18 & si & 5 \\leq k < 6 \\\\ \\\\ 5/12 & si & 6 \\leq k < 7 \\\\ \\\\ 7/12 & si & 7 \\leq k < 8 \\\\ \\\\ 13/18 & si & 8 \\leq k < 9 \\\\ \\\\ 5/6 & si & 9 \\leq k < 10 \\\\ \\\\ 11/12 & si & 10 \\leq k < 11 \\\\ \\\\ 35/36 & si & 11 \\leq k < 12 \\\\ \\\\ 1 & si & k\\geq12 \\end{array} \\right.$$"
      ],
      "metadata": {
        "id": "QN5msSnfIVh5"
      }
    },
    {
      "cell_type": "markdown",
      "source": [
        "Con esto podemos dibujar la *fda* de la v.a. $S$ y luce de la siguiente forma:"
      ],
      "metadata": {
        "id": "QRXvkdpYejRV"
      }
    },
    {
      "cell_type": "code",
      "source": [
        "# Definimos los intervalos y los valores correspondientes de P(S<=k)\n",
        "intervalos = [0, 2, 3, 4, 5, 6, 7, 8, 9, 10, 11, 12]\n",
        "valores = [0, 0, 1/36, 1/12, 1/6, 5/18, 5/12, 7/12, 13/18, 5/6, 11/12, 35/36]\n",
        "\n",
        "# Creamos la figura y los ejes\n",
        "fig, ax = plt.subplots(figsize=(10, 6))\n",
        "\n",
        "# Dibujamos cada tramo de la función\n",
        "for i in range(len(intervalos) - 1):\n",
        "    x = np.linspace(intervalos[i], intervalos[i+1], 1000)\n",
        "    y = np.ones_like(x) * valores[i]\n",
        "    ax.plot(x, y, 'b', lw=2)\n",
        "\n",
        "# Dibujamos la línea para k >= 12\n",
        "x = np.linspace(intervalos[-1], 14, 1000)\n",
        "y = np.ones_like(x) * 1\n",
        "ax.plot(x, y, 'b', lw=2)\n",
        "\n",
        "# Etiquetas y título\n",
        "ax.set_xlabel('k')\n",
        "ax.set_ylabel('P(S<=k)')\n",
        "ax.set_title('Función de distribución acumulada de $S$')\n",
        "\n",
        "# Límites de los ejes\n",
        "ax.set_xlim(0, 14)\n",
        "ax.set_ylim(0, 1.1)\n",
        "\n",
        "# Mostramos la gráfica\n",
        "plt.grid(True)\n",
        "plt.show()"
      ],
      "metadata": {
        "colab": {
          "base_uri": "https://localhost:8080/",
          "height": 565
        },
        "id": "_bUMNh0tdDJP",
        "outputId": "af753a5f-4f4d-4918-987e-3913c1da2d65"
      },
      "execution_count": null,
      "outputs": [
        {
          "output_type": "display_data",
          "data": {
            "text/plain": [
              "<Figure size 1000x600 with 1 Axes>"
            ],
            "image/png": "[encoded data removed]"
          },
          "metadata": {}
        }
      ]
    },
    {
      "cell_type": "markdown",
      "source": [
        "___"
      ],
      "metadata": {
        "id": "ky-Da9PJf8Ja"
      }
    },
    {
      "cell_type": "markdown",
      "source": [
        "## $\\color{red}{\\text{Ejercicio 3.}}$\n",
        "\n",
        "Supongamos que el número de accidentes que ocurre en un punto tiene una distribución Poisson con parámetro $\\lambda=2$.\n",
        "\n",
        "Usando el atributo `.cdf` [Poisson](https://docs.scipy.org/doc/scipy/reference/generated/scipy.stats.poisson.html) calcula las probabilidades siguientes:\n",
        "\n",
        "- $\\mathbb{P}(X>2)$  \n",
        "- $\\mathbb{P}(X>2 \\mid X\\ge 1)$"
      ],
      "metadata": {
        "id": "PyotunPdkBzq"
      }
    },
    {
      "cell_type": "markdown",
      "source": [
        "### **Solución.**"
      ],
      "metadata": {
        "id": "n0birLo9fxFP"
      }
    },
    {
      "cell_type": "code",
      "source": [
        "#Recordemos que .cdf nos brinda la probabilidad acumulada P(X≤x)\n",
        "p_lambda = 2\n",
        "\n",
        "# Calculando P(X>2)\n",
        "p1 = 1 - sps.poisson.cdf(2,p_lambda)\n",
        "\n",
        "# Calculando P(X>2|X≥1)\n",
        "p2 = p1 / (1 - sps.poisson.cdf(0, p_lambda))\n",
        "\n",
        "# Mostrando los resultados\n",
        "print(\"P(X>2)=\", p1, \"\\n\")\n",
        "print(\"P(X>2|X≥1)=\", p2)"
      ],
      "metadata": {
        "colab": {
          "base_uri": "https://localhost:8080/"
        },
        "id": "tn-lD5U1akC9",
        "outputId": "37d7c0fc-b2b9-47e1-cd9b-94ae7e843cef"
      },
      "execution_count": null,
      "outputs": [
        {
          "output_type": "stream",
          "name": "stdout",
          "text": [
            "P(X>2)= 0.3233235838169366 \n",
            "\n",
            "P(X>2|X≥1)= 0.37392942900133747\n"
          ]
        }
      ]
    },
    {
      "cell_type": "markdown",
      "source": [
        "___"
      ],
      "metadata": {
        "id": "tOMOWvedf7Gh"
      }
    },
    {
      "cell_type": "markdown",
      "source": [
        "## $\\color{red}{\\text{Ejercicio 4.}}$\n",
        "**Un examen de Estadística consta de 20 preguntas tipo test y se conoce de experiencias anteriores que un alumno tiene probabilidad 0.7 de contestar bien cada pregunta. Obtener:**\n",
        "\n",
        "**a) La probabilidad de que la primera pregunta que contesta bien sea la cuarta.**\n",
        "\n",
        "**b) Sabiendo que para aprobar el examen es necesario contestar bien a 10 preguntas, ¿cuál es la probabilidad de que apruebe al contestar la pregunta duodécima?**\n"
      ],
      "metadata": {
        "id": "IrFhFu9XkBpk"
      }
    },
    {
      "cell_type": "markdown",
      "source": [
        "### **Solución.**"
      ],
      "metadata": {
        "id": "nlrQp8XHfzCJ"
      }
    },
    {
      "cell_type": "markdown",
      "source": [
        "Datos generales:\n",
        "- Test de 20 preguntas\n",
        "- Probabilidad de que un alumno conteste bien cada pregunta: 0.7"
      ],
      "metadata": {
        "id": "K-r_trxig1E7"
      }
    },
    {
      "cell_type": "markdown",
      "source": [
        "**a)** Para este inciso tenemos que cada \"pregunta\" es independiente entre sí y estamos repitiendo el evento de \"responde de manera correcta\" varias veces hasta que contestemos bien  alguna pregunta en específico (posición), entonces ésto nos indica que la distribución que modela bien a nuestra v.a \"Respuesta correcta en cierta pregunta\" es la distribución geométrica."
      ],
      "metadata": {
        "id": "faILdRhjhIOz"
      }
    },
    {
      "cell_type": "code",
      "source": [
        "k = 4\n",
        "p = 0.7\n",
        "prob_A = sps.geom.pmf(k, p)\n",
        "prob_A"
      ],
      "metadata": {
        "colab": {
          "base_uri": "https://localhost:8080/"
        },
        "id": "33VxP0wrheBl",
        "outputId": "3aa9edca-2781-4f07-e5e7-a00707067795"
      },
      "execution_count": null,
      "outputs": [
        {
          "output_type": "execute_result",
          "data": {
            "text/plain": [
              "0.018900000000000007"
            ]
          },
          "metadata": {},
          "execution_count": 4
        }
      ]
    },
    {
      "cell_type": "markdown",
      "source": [
        "**b)** Para este inciso tenemos que aprobar el examen con al menos 10 preguntas correctas (éxitos) y nos interesa saber la probabilidad de que suceda al responder la duodécima (12) pregunta, es decir, \"10 preguntas ya tuvieron que ser correctas = k \", y nos quedan \"2 preguntas = n\" que podrían ser correctas o incorrectas entonces la  distribución que modela a nuestra v.a. \"Acreditar el examen al responder la pregunta 12\" es la distribución binomial negativa."
      ],
      "metadata": {
        "id": "EyARayvthgZ6"
      }
    },
    {
      "cell_type": "code",
      "source": [
        "k = 10\n",
        "n = 2\n",
        "P = 0.7\n",
        "prob_B = sps.nbinom.pmf(n, k, p)\n",
        "prob_B"
      ],
      "metadata": {
        "colab": {
          "base_uri": "https://localhost:8080/"
        },
        "id": "hpm4GA1aakfw",
        "outputId": "114abeb6-b5e2-446d-f7a6-50b9b5a9d3b9"
      },
      "execution_count": null,
      "outputs": [
        {
          "output_type": "execute_result",
          "data": {
            "text/plain": [
              "0.13982524825499987"
            ]
          },
          "metadata": {},
          "execution_count": 5
        }
      ]
    },
    {
      "cell_type": "code",
      "source": [
        "#----------Resultados----------------------------------------------------------------------\n",
        "print(\"a) La probabilidad de que la primera pregunta que contesta bien sea la cuarta es \", prob_A)\n",
        "print(\"b) La probabilidad de que apruebe al contestar la pregunta duodécima es \", prob_B)"
      ],
      "metadata": {
        "colab": {
          "base_uri": "https://localhost:8080/"
        },
        "id": "B8TQuDlihv8k",
        "outputId": "f7b94444-a25a-4cdf-abc6-1e3597448f2a"
      },
      "execution_count": null,
      "outputs": [
        {
          "output_type": "stream",
          "name": "stdout",
          "text": [
            "a) La probabilidad de que la primera pregunta que contesta bien sea la cuarta es  0.018900000000000007\n",
            "b) La probabilidad de que apruebe al contestar la pregunta duodécima es  0.13982524825499987\n"
          ]
        }
      ]
    },
    {
      "cell_type": "markdown",
      "source": [
        "Presentamos el entendimiento para manipular a la función **nbinom.pmf**\n",
        "![image.png](data:image/png;base64,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)"
      ],
      "metadata": {
        "id": "kiZN_L9rvr2a"
      }
    },
    {
      "cell_type": "markdown",
      "source": [
        "## $\\color{red}{\\text{Ejercicio 5.}}$\n",
        "**Investigue sobre el problema de la caja de cerillos de Banach y explique su solución.**"
      ],
      "metadata": {
        "id": "QRHLyJWLkBhI"
      }
    },
    {
      "cell_type": "markdown",
      "source": [
        "### **Problema de la caja de cerillas de Banach**\n",
        "\n",
        "Supongamos que un matemático lleva ***dos cajas de cerillas*** en todo momento: una en el bolsillo izquierdo y otra en el derecho. Cada vez que necesita una cerilla, es ***igualmente probable*** que la saque de cualquiera de los bolsillos. Supongamos que mete la mano en el bolsillo y descubre por primera vez que la caja elegida está vacía.\n",
        "\n",
        "Si se supone que cada una de las cajas de cerillas contenía originalmente $N$ coincidencias, ¿cuál es la probabilidad de que haya exactamente $k$ coincidencias en la otra caja?"
      ],
      "metadata": {
        "id": "R4Hs-svBak-O"
      }
    },
    {
      "cell_type": "markdown",
      "source": [
        "### **Solución.**"
      ],
      "metadata": {
        "id": "mGPbmbkUp_fo"
      }
    },
    {
      "cell_type": "markdown",
      "source": [
        "Note lo siguiente:\n",
        "\n",
        "*   **Ensayos Independientes:** Cada vez que el matemático saca una cerilla, es un ensayo independiente con dos posibles resultados: sacar una cerilla de la caja izquierda (éxito) o de la caja derecha (fracaso).\n",
        "*   **Probabilidad Constante:** La probabilidad de sacar una cerilla de cualquiera de las dos cajas es constante y igual a $\\frac{1}{2}$.\n",
        "* **Número de Fracasos Fijos:** Queremos modelar cuántas veces el matemático sacará una cerilla de la caja izquierda (éxitos) antes de que haya vaciado completamente la caja derecha (fracasos). En este caso, vaciar la caja derecha corresponde a n+1 fracasos, ya que necesitamos n fracasos para vaciar la caja y uno adicional para darnos cuenta de que está vacía.\n",
        "\n",
        "Dado que estamos interesados en el número de éxitos antes de alcanzar un número específico de fracasos, la distribución binomial negativa nos puede servir para este problema.\n",
        "\n",
        "Sea $p$ la probabilidad buscada.\n",
        "\n",
        "Denote con éxito el evento de que extrae una cerilla de un bolsillo (el que tendrá exactamente k al final), lo que ocurre con probabilidad $\\frac{1}{2}$, y en caso de fallo, el evento de que saque una cerilla del otro bolsillo (el que estará vacío) lo que ocurre con la probabilidad restante, es decir, nuevamente $\\frac{1}{2}$.\n",
        "\n",
        "El número $x$ de éxitos antes de $n+1$ fracasos tiene una distribución $BN\\left(r=n+1, p=\\frac{1}{2}\\right).$\n",
        "\n",
        "Por lo tanto,\n",
        "\n",
        "$$\\mathbb{P}(X=x) = \\binom{x+n+1-1}{x}\\left(1-\\frac{1}{2}\\right)^{n+1}\\left(\\frac{1}{2}\\right)^{n-k} = \\binom{x+n}{n}\\left(\\frac{1}{2}\\right)^{2n-k+1}$$\n",
        "\n",
        "Y queremos calcular la probabilidad de que haya exactamente $n-k$ éxitos (para que queden exactamente $k$ coincidencias en ese bolsillo) antes de $n+1$ fracasos, y viene dada por\n",
        "\n",
        "$$\\mathbb{P}(X=n-k) = \\binom{n-k+n}{n-k}\\left(\\frac{1}{2}\\right)^{2n-k+1} = \\binom{2n-k}{n-k}\\left(\\frac{1}{2}\\right)^{2n+1-k}$$\n",
        "\n",
        "Recordemos que no se especificó cuál de los dos bolsillos estará vacío (fue la suposición que hicimos al principio), así que al fina debemos duplicar la probabilidad anterior para encontrar la probabilidad requerida, que por lo tanto es igual a\n",
        "\n",
        "$$ p = 2 \\binom{2n-k}{n-k}\\left(\\frac{1}{2}\\right)^{2n+1-k} = \\binom{2n-k}{n-k}\\left(\\frac{1}{2}\\right)^{2n-k}.$$\n"
      ],
      "metadata": {
        "id": "iNOOJOYW9-iR"
      }
    },
    {
      "cell_type": "markdown",
      "source": [
        "___"
      ],
      "metadata": {
        "id": "O13c_LsUf3oQ"
      }
    },
    {
      "cell_type": "markdown",
      "source": [
        "## $\\color{red}{\\text{Ejercicio 6.}}$\n",
        "\n",
        "**Una compañía petrolera realiza un estudio geológico que indica que un pozo petrolero exploratorio debería tener un 20% de posibilidades de encontrar petróleo.**\n",
        "\n",
        "**- ¿Cuál es la probabilidad de que el primer pozo se produzca en el tercer pozo perforado?**\n",
        "\n",
        "**- ¿Cuál es la probabilidad de que el tercer pozo se produzca en el séptimo pozo perforado?**\n",
        "\n",
        "**- ¿Cuál es la media y la varianza del número de pozos que se deben perforar si la compañía petrolera quiere establecer tres pozos productores?**"
      ],
      "metadata": {
        "id": "pg4OIkbUkBYl"
      }
    },
    {
      "cell_type": "markdown",
      "source": [
        "### **Solución.**"
      ],
      "metadata": {
        "id": "5mkHGg_nf2h1"
      }
    },
    {
      "cell_type": "markdown",
      "source": [
        "Recuerde que la distribución binomial negativa sirve para saber cuántos ensayos se necesitan hasta alcanzar un cierto número de éxitos en un proceso de Bernoulli. Si $X$ sigue dicha distribución escribimos $X\\sim \\text{BN}(r,p)$ y su función de probabilidad está dada por:\n",
        "\n",
        "$$\\mathbb{P}(X=k) = f_{X}(k)=\\begin{cases}\n",
        "\t\\binom{k-1}{r-1}p^{r}(1-p)^{k-r} &\\quad \\text{si } k=r,r+1,\\dots \\\\\n",
        "\t\\qquad 0 &\\quad \\text{en otro caso}  \n",
        "\\end{cases}$$\n",
        "\n",
        "Además, de las notas de clase sabemos que\n",
        "$$\\mathbb{E}[X]=\\frac{r}{p}$$\n",
        "y\n",
        "$$\\text{Var}[X]=\\frac{r(1-p)}{p^2}.$$\n",
        "\n",
        "Por tanto, la distribución binomial negativa es adecuada para este ejercicio, ya que, se está considerando el número de ensayos (en este caso, perforaciones de pozos) necesarios para obtener un número específico de éxitos (encontrar petróleo).\n",
        "\n",
        "1. Aquí tenemos $r=1$, $p=0.2$, por lo que\n",
        "\n",
        "$$\\mathbb{P}(X=3) =  \\binom{3-1}{1-1}(0.2)^{1}(1-0.2)^{3-1} \\approx 0.1279$$\n",
        "\n",
        "\n",
        "2. Aquí tenemos $r=3$, $p=0.2$, así que\n",
        "\n",
        "$$\\mathbb{P}(X=7) = \\binom{7-1}{3-1}(0.2)^{3}(1-0.2)^{7-3} \\approx 0.0491$$\n",
        "\n",
        "3. Sustituyendo $r=3$ y $p=0.2$\n",
        "\n",
        "$$\\mathbb{E}[X]=\\frac{r}{p} = \\frac{3}{0.2} = 15$$\n",
        "\n",
        "$$\\text{Var}[X]=\\frac{r(1-p)}{p^2} = \\frac{3(1-0.2)}{0.2^2}=60$$\n",
        "\n",
        "\n"
      ],
      "metadata": {
        "id": "siaS-bo0rOjy"
      }
    },
    {
      "cell_type": "markdown",
      "source": [
        "**Resultados utiizando python**"
      ],
      "metadata": {
        "id": "Gjva-9UdHHol"
      }
    },
    {
      "cell_type": "code",
      "source": [
        "# Datos\n",
        "p = 0.2\n",
        "# Inciso a)\n",
        "X_a = 3\n",
        "r_a = 1\n",
        "n_a = X_a-r_a\n",
        "prob_a = sps.nbinom.pmf(n_a, r_a, p)\n",
        "\n",
        "# Inciso b)\n",
        "X_b = 7\n",
        "r_b = 3\n",
        "n_b = X_b-r_b\n",
        "prob_b = sps.nbinom.pmf(n_b, r_b, p)\n",
        "\n",
        "# Resultados\n",
        "print(\"P(X=3)=\",prob_a)\n",
        "print(\"P(X=7)=\",prob_b)\n",
        "\n"
      ],
      "metadata": {
        "colab": {
          "base_uri": "https://localhost:8080/"
        },
        "id": "p29uBqiM82uS",
        "outputId": "6bc7a0b0-33df-42e1-e148-fd2cac8a3865"
      },
      "execution_count": null,
      "outputs": [
        {
          "output_type": "stream",
          "name": "stdout",
          "text": [
            "P(X=3)= 0.12799999999999997\n",
            "P(X=7)= 0.04915200000000004\n"
          ]
        }
      ]
    },
    {
      "cell_type": "markdown",
      "source": [
        "Para calcular la esperanza y varianza debemos tener en cuenta que hay dos parametrizaciones:\n",
        "- Parametrización 1 de la v.a. binomial negativa\n",
        "  - ![image.png](data:image/png;base64,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)\n",
        "\n",
        "- Parametrización 2 (la cual usa **.nbinom**)\n",
        "  - ![image.png](data:image/png;base64,iVBORw0KGgoAAAANSUhEUgAAAY4AAADtCAYAAACoE5I8AAAAAXNSR0IArs4c6QAAAARnQU1BAACxjwv8YQUAAAAJcEhZcwAAFxEAABcRAcom8z8AAIbuSURBVHhe7Z0FWBTb+8f9/27Z3d2t2N3dce2+5rW7xe7u7u7uBhEBFQTEAOlGupvvf76zO7Cui4piXc/nefaBnd2dOXPi/b7ve87MpIFAIBAIBClACIdAIBAIUoQQDoFAIBCkCCEcAoFAIEgRQjh+GBLwyvwB7jx8isg49aafFLfXT3D9vimCoxLUW35Owv3cYXjrDp7beaq3CL4nb93tcevGbdg6+6q3/EeIi4C54R0YWzkgXr3pRydROML9XWEsFf7Gjeu4du0abt19AAd3P/Wn/13iw9/i6Nr5WLz1NAKi1Bu/BjHBOL93Jeat3g2P4Bj1xiRcn15E6/q1MWfXZUSlgnBEBnnjsdE9XLtxCy8dvdRbP43Y0EA8e3Afdw0fISBSy/gnRMHW+hEMTCwkYXi/m/s7mKBvm4YYteIQQqN/buFwMDiGagVKYOKyc+otKSPSzx6bl87BlqM3oF2N/3WCvRxg+MAEb0Oi1VuSJ8DDDoZSX/ML/3DHv3l8DfLlKoIFu+6pt/w3eHR6HRrWbo79t2w+STjiw31xeNMiLNt6HH7fqWMlCofd3R2oWiwH8hQogtJlSqJQ/vwoXbEW9DcfR3DMz6KDScRGhcHNzQX+Ye8baU0iPJ+jV/l8KNJwCF6//Xgn/1xig50wsn055KnQAo+dAtRbVcRIBmbagA4YMG0T/GO+tCPE4fHVPejSvA7Kly2NooULoHjZapiz+TRCYtVf+QjBNsboUb4oMmXJj9k7b6i3qonxwIxBtVGsbheYe0aqN6qIj/LD+qkD0XX4Arh/pN5/BuzvH0KF7PkxZtFp9ZaU4ffiGmqXyI6GPSchJV0rKjRI7ruhqeFBaJAQFw1vTzd4+YWot3wlIn2wcHhXdB4xH+6hH7cdAfamGNi2MSatO40PddHrh1cgc/q80N9+R70ldYmNDoeHsxsCgt/t11+Tt7ZGGNChGebuvIrYTxz6Ed7W+LtOQZRs2Aev3kbI2+Jio+Dl5gbfoHD5/dcmUTheXV+LInkyoPeUFbhz7zZOHtiJPs0r4re/smPxiQfqb/08PDq6EC06dsFdx491gmi8sjDBY2v7T264zyMOjjZPYPz0JaK1xlKkFO3du/0gVSIeGu+dC0diyPjZOHP5Gi6fPYLuTSogXfYyOGxgr/7Whwm2MkTHIrmQJk0a5C7bDLee+6g/kYhxx7geZZGtcks8cdcSjjBv3L56A2+8w9Rbfm4cDY9AL3dhjF9yVr0lZSTEhsHS1AhWdh7qLZ/G+bnj0aXnALwKUm9IJd5aXkC3Ds2x/uJT9Zavg8nxZahSpQFOmjqrt3yc2/vmoUK1Zrho7q7e8j43jq5CjiwFMX/nXfWW1MXo4hY0kozxTbNvl2nxc7GBofGTDwrme0hR/+tnpjCzepP4u+cGR9CyVXscM3FVb/m6aAjHOpQonAsLjxuptwCeT0+hQu7/oWqnhVAcB183exhJwnLPyBTegUmGIybED08eGOKVsxdiwgPwxNQEzj6h8mfxkSF48cwMt27dxrOXTpIJVYiH65vnMHxogZCIWAR52sPwniHeuCseeRwcXjzBfcOH8PDXoaTSwLR+Yoxbdx7AyStQvTEaL6zMMPHvqsiSrwgW7zkDYxNrRMTGw18KiR8YPYS35A37utvC9IkNQsPC4fTKHE9tncGUfIivEwzvXJfLevvOHdw3MMD9e/fw1PI5lMxLkI8rTIzu4M79B3B5G6zaqIWHgw3u372Jh2YW6qgnFo62NrCwskO4lnL4SHVq9sgIJk8s4Rem0YUSYuFsawEDo+eIkA4e4PEGBnfv46WThiHXIj4mCr5ebzXqGHh6ZiPypU2HyZtUKZeY8EC8tHoOn0DdShVsbYRORfOiQeu2qFGiEBr104ePUv1SxDGpTyXkqd5Oijj4+3ip/kzx0NwaQYlF5zZzGD62QKCczpJE89lT+fwipLdeDs9hYGgEN1+1wMRH4oWFKQykAeSref5qwgM8YGRwFwaPzBEQnvR5RJCP1A5GsHMOQGTQW5iZmMAjQNXniKfjS9y9cxsPzJ6987sP4W5vI4n4Pdh7BsLZ+DSq5XlfOFiehyyPsbnUtsnvNy4qGNbPnuGlnTvYdWIj/GFmbAwbW2/pnKNhK40JA6PH8A1VRWcJ0SGwMr2FfhVLokDxyth64gpMH9shMjF443gwx63bt2Fjr2lg42D/ygoPTa0QJvUtfw+OI/YT6Thq3JxeY6v+AOTMnhn9Z67G3fsm8PRPEvgwf0+YPryHuwbGcPZWxpIGMWF4Yf5IGhd3YPHSARHJZCESQtwwvnMDdPx3OcLV48Xf+Q0ePngEH8mTjwr2ltrsHh4/lxw11ccycYF2GNBUD31n7EByrp4iHEv2GSE2KhBPHxrA5KmNdM7qL6iJDguE9VMjuZ6ev3F9L/0TFegNswf3cOveA9i5vkVCfAwcbMwwYWAL/J6uNOatPAbDJ8/gr55sjI0Igo25ibS/O7CyfX9/mgT5usBQqkO3t2EI8XGBqdlTaUwn7xF6u9jhodEDWL5Mqo/IQC+pv9+D+XPHxGPFRwXhifFdqd4cESWNcbuXVrB+5YzomFh4vnyGBeP+RrqseTBuxR5pnEjjKCTpmKG+7jCWzve2odS2PjrsldS2zx8b4+YN6fxeOSLyEzxoLeHIibmHktQ8wtUI9UqlR7kmsxESF4ULWxajZb26qFOrJsqULIa6rXvh8lMH+bt+FtfRvHQJ9B83BfPHDUChYpWw6aYdwlzMMHpAF9SpWxfV9CqgeCk9jFm4E36yFY7BlrmDULhMMyxbvgr/dG+GgvnyokK9rjh/7ylOb1+M+jUqIl/u3KjfYTAevEyapPSxM8WkgZ1QrWo1VKuih+r1W2HH5ceIj/XH4qkDkCdHZmTJmh0ly1ZAx55TpZA5Cjd3z0SxMqUxc8NG9GhSCVXrj4G1ZEAnty+JUr2nwVXqgG8MDqJFzUqoVqM26terB73yJZE5c1b0mbRWKi1w79Q2tG/eEHXr1kT50sVRuW47HLz6TFUoiSg/B6yZPhRVKpZG8RLFUKxkWSw4cEsa/CGY3K8JytTqjxfuKiscE+yB7QvGoU7ViihduiRKFC+Feq1749T95/LnSAjC2kntkb9YZ2zavAEDu7dA8YL5UEqvKXZeNJON0adwZ99CZEuXA0uOGMvvTU4vQZFcuTB5/Qmdg4DC0TZ/NgyYsxpX98xDTqlDzjtiqPowVkM4vDiwQrFiZHWUbN0HD73VchXnhxWjWiFfrXYwcmcHDsHirq1QtVYTrNqwHl2b1UD+vHlQt+Mw3DN5gj2LJ6GWXmnkyZsPrQZOg7VnkkEzu7offzdvgGrVq0OvYiW07DESBi9VczYOZmdQo3Qp/DNmBaYO6YCiJcvh5MPnkg55YcOcEagh9bdSpUqhpPRq3GkgLjx6Lf9OFwlxwTixaRaqlS2OwkWKoWG7PtCfMRGV85fApKVJcxyPrx3A3y1U5alcqRKadx8Bgxe6I4pgp4doUKU8Ov6zTDaGQQ73UK9SBXTtr4/1K2aiWa1KyJenAFr0moTnHhFICHiNaf+0Qq7MWZA1ey6ULl8JPQeugW+EVO3Brlg3YzhqV5f6e9XK0KteDzPXn0SwXOXhWDC2J8pVbY/V6zZhYI+WKJE/P0pWaoDtl1X95MzeZShVJC+yZM6EwlI/q9vgb1w1l7zThDjcPLIObRrWRNkyUl2VLInKtZpi2Z5LCFM3p+fLB5g4sCOqVqkqjWFp3LTthbOWuiMDt8cXUL9yGaw4Y6beIvW/tbNRtmRFzF+1FjOG9UXFUgUlYSyHqWtPaKRP43BowQCUb9IXVr6605wUjny5imPMjLWYM3kQKpUqIvWZohiivxGe4aqebP/0BoZ0b4d69eqgSuWyKFW+GmauO41Q+Vzi8eT6AXRv0xBV9KpCT68KOoxeAHsfb2ybPQhF8mZDhkw5JBtVHs36j4Olfxy8n93H6J7tUU+yX1Url5PaRA8TVx9AQDLzdyaXNqBo/kqYtmA9hnVtgLLVG+OezftRQEJUAI6smYWGtatLfakqKkvlGTpjIzwktY31t8O/HWqiVO0uMHVVpaKMji6Wxn5xrDj+EOFhbujbqhrqdJwqCVQwzi8aj5IF8yKjZKeKSG3bqMsgGL3xl34Vg8t7l6N53eooLdm9EqVKQK9OM6w+dAOqvUoOrrUhxvbrKLVrFam+KqNhq364//yt+tPkeS/iWHD0vmpDTCjObZiETP/3f+i/9CziJFW6uG0ztu86CasXL3Dt0HIUz/kXanadhRCpDv3Nr6Ju9nTIW7Qsho7Xx8Zdh2DtHgyPF4ZYsmoDrtx/DGvzh5jWrQ5+z1IYm2+pBvH6ab2QJk1aNOs5BsfOnsOeVdNRNFt65CpYCf1G6+PkhQtYO7U/0v7fH+g7e69s6GL832Bkh2oo36AHLtx7jFeWJpjWVxKdso1xw8oTXi6vMH9II+QuVgYbT97By9cOiE1IwMWNo5H2zzSo1Kgt9BeuwNHTD+Dt9AKDamdEljYjYSvZq2jJG7F4bIanFtaweHAZ7avlR6YSDXHDmsYhDtdO78G67Qfw1MoGBpcPoVaRbCghhbcvWQmS8VkzuhMyZMiNfpMX4/TFKzi2fwfOGZgjLMwXw9pXQfYSnWDjKQ2MhAjsmN0XGTLmxD/TVuLS1Ws4vnczmlTIjfyVW8LwDT2DcCwd2Uyqn8zoMngKTl25jjN7VqJirrQo2bg/XgV9yPdR4Wv3AO1rFETR2t1h7qEyyC8fHEHXtm2x7ZzuFCSFo02+LOgxcz1iw30wo1tN5KnQDCauFAFfLeEIwtx+RZG5VlsYeKotTawv5vavgd9K18U9+TehmNuiNn6X2rn7iDk4IbXz+pnDkCv9byhatjrGzVqJs+fPYMbQtvjzj4yYtvWavBsX4xOoVa4YOv+7GI+tXsL09km0qlIEtbrNgb+0W6fHp1AyZwbkKVkLg6fpY8e+g7CXvNvt03oga5a8GDF7HS5fu45ju9eidql8KFSlI0wddHjTkmk1PbsKebOmR6MeUj88dxGnj+xCn9Y1ke6vnJi68pL8LZdHp6TyFEfnEQtgJpXH7M4ptKlaDNW7zoCbjgmkYIf7KFsgNxp21VcJx5vb0CuaHdkK6GH6yu24cfMqFo/qhvT/+x2D119CnBSFOL00wZh6VVGifC0cuWaM13ZuUuQSgM1Te0pOT31sPnELtpK3uW3uEOTPXxYbzltKe47B7OEd8L/fMqHtgIk4cekazu5ajap5M6Bw/cGw842UPGF3HFszBoUL5MS/i3fA0vIlgqIiYXJuHYrkyIIG3Ubj2JmLuHj6KIZ1rIVMOYtgw4WnSEiIwZoBTZExdzGsOXIDLyyf4sL1q3jmSsP0Pg9OLkKlsrWk8ZIU7dxcPhnZJDtSvUVP7Dp2AdcuHECHukWQIW9VXHmWJLrmZ9ZLzlgDnDDRLUq3TqyTRDUTStZshxV7T+Da+RPoU78E0mQuiT23XsnfeWl6FSvWbsBdYws8M7mLYe1qSGUvg5OWPoj3fYnuVQujSNVmuPTQAlZmD3FBii69QiLg5fgK88b+jYzZqmDVjqt4busgL2iwN7iJ9UvX49bDp7A0u4vRf9dAuhylsP+WnXw8bR6eXolMf6RHqRpNMGbOIuw7egru/lpevtTO5zdNRLHCFTB36xm8tH2Fszvmoniegpiw7rLUGxPw9Pw65MmUEUOXn5Iia3v0qlsc1TqPh2tIHOJC3qB19aIoVXcYHP1jEezpgA1zByNrviKYsfU0LF/YITQ6FsbHV6BwlgySYzIeJ85fwaXThzGwdQ2kzVYCW6++lAoSjrkD6iNd7nLYePo+bKye4PqFq7Bz+3iONFE4bG9tRukCmVG5fksMGToUPTo2Q44Mf6FKq39hJQmAJiFBfnCwuoN2VUuhWMVecJI89RCrG6iVOS2KNxkAW10GLS4SPh6uOLv+X6TNkh0Td6sEatP0Xvjtr9zYclmdd412x/i25fC/nBVw2Vq17C7urTmqFM6Nep1ng6bP+toW5JEaZ7D+Fpg9MZPC+cc4tGwScv2ZGdO33JR/c3J+V+Qro4cbb5K814ubxyLD//2OfxYeV2+R9h1gi0F1syF3x7F4nZTlkDmzeqzk0ZSQB5A2ESEBcLV/hnEdyiB9hXq47BqHIIvzKJ01LdqPWSk1ybvEh3tieOeayFeuO+wCpN87P0LjghlQvY8+AjWcl8fnViB9umyYLudxY7BybAv8769SOGXkpPqCtG3RsIbIXLAOrlq8O8mujY3hKbTQK4q8ZRrhnMm78xtxUoibHIpwdJ20XH7vbXEJ1aRotN2YTQiP9sX0/noawhGMhf+URq4GnfBAfi8R64eFg+shfcXGMHBTCcf8FnWQMVdZHHuiihZi31qjfZVsyF6mvWSEVMkJH5MLqJYjk3TcddK7OGwc2xk585TH+mM3YGZqArPHhpjZt6kkzBVhKFWiq+UllMn9Byq3GwUPdX4j0PYaKuXLimaDl8t9ReHeLn3kzpgFc/fdVm/RIMYPM7rWQq6yzfHIKakTPDm7GgUz58bE5RSOOGwe1xXZ81bA2sNXpfKYSuUxwsw+zZEhbRlctXo/6gh2NETlYoXQvOcCWTiC7e9Cr0h2VGszFmpHEuH2t1G/dFZU67gEoXI/iMPqdo1Qvnoz2Kib10eK5hvky4QGfabhvsljmErHvnVqEypIotlF6muxkqFZ8G8H2aAdNlCiqigsGtMef2SqITlTqtTm62urUaJIHiw6oYo8EeGFaW0rI0eFVpJTkNRjA23voGqxnGgsRUrB0VHYMLA5/spaGAv3XIB7MulNFQk4t3oUKkh93Nw5aX+3V05Blj8yYbJkkBVurJ2OPH9lxNLTj9RbJEfA7AjqlS2PbWet1Fve5dbxNciSIR16zdwu1ZIK4zNL8Gea7Ji54d1FHPHRYfB2d8FeKYrJkisrZl+xQZz/K3SrVAj5KkjidO9pYkSlcGjtGGTMUU8SlfeX+ybESuLi4YJ9S0Yja/r8WLzLQP3JuzyShDjLn/+HNiNXSb1eN1FeNuhTOR9KNeqNKwaS/ZLa89EtaayWzoVqrQbDiwFXQhjWju+MYlLUOHRIT1Sp2xpXn6nEOEKKSDrULYPyjf6Fk9oPunVwLnIUKomdhmo7EemGEa3KIq9eJ1h4JuXy/J5fQ3WpL7UcvEiyJBGYN7g2/shRDMv2X4NXcPI2QZsk4bi9GWXyZ0SxclXRpFlTtGr3NxasPwA7L/UKjNgw3Dy6GQN790C3nj3RpWNrlMiZAxVrDYSzVK7gZ1KBsmZEx4mroZly9HWwwJKp/6J7927o0aMbmtWpjN+zFsCM/arUx7qpPaQOXx1XH6u9jBhPTO9VFZlrdoCFn6plo3yfo0apwqjfZYbcGNcPzsP//i8LqtRogOYtm6Np06ZoUKcWykmh/fL9l+XfHJnTCXlLVcaVl0nG9eKGUciYNRvWaHgLMf66hcPy8kYUy5EZ/ebuTZzbkCoBZjcOY9jA3tL59MDfnTugYvEsyFqtBa57xML27DrkT5cPKw6/78knRCQJh70krN5PLqL8n1kxdu0F9TdUuNtcR75MUhQy55j0LgorxjTBH1law8xWWQkTg7WTuyBrrtq4aJTcXEcC7h9bgwr5s0udqw9uPdPtwSVHknAsk0pA4iURHYWcuUpj9/kb0B9eD3lraApHKeRu1BlG3mqHIS4AS4Y10BCOEOg3r4UiksCaqMUl2u8V/q5XFJWaTIOX2sHxfXQVDfLmQOfJ66V34RjVp5UkEvnRoHEzNJPauGnTJqhTrQqq1WmMh2884GxxQeqDWdB/ymHpjFU4GqxB3kI5MHLHu4bE02g/yhXKiN7LDqm3JBEf4oj2tSujRosp8NZQfLdHZ1AtTxFMXHZReheBcX1aI1Pm/KjXsBmaS2OE5aldXQ/VazMifX8i+H3huI2KhfKjw6CNiY5FlPsjtKpaBNUazEWQXDXhWN6mAcpVbQILb9VIenXrCCqmzyw5aTXQrLmqvzduVB/lypXG8PmbpH3HYe7w9shTrAkMXyqRQDSWzeyPvzJVwiVzlahZXViO4pIDtuCIyujF+LxCr3IlUL/bTPhpZIfiw53Qvm5FVG4yBm6S+ga+McaY3q1QpFABabw3xfzNx+Gjc+lsPI7PHoryNQbiuXeSwNyUnLrc0pjfdsNcvUUysBsWolj6TJhzLGmsuFmeRCO90pL3m/Q9TW4cXYkcWQpg8Z4ko/3k9l5k/DMHpq1TRYUeLx9g9vhh6NatB3pKNqdh9VLImK8A9C8yMovF02tStNNAD4UKF0X91j2x/8ojKAsZ964YKQlHXZy9n+QEeL16hPmTh6Nbj+7o3uNvNKpRAdkyFcOKfbqjdeNzq6WIIyfm7VCndnXgZ/sALfLnQ95iFdC0WXO5bzdp3AiVK5RBp6GT4aT2eALt7qFRsSzyIpXhK5KcXV3CcXXPLGQvKEUSd1SOQ6zPU7SplRnV/5mLd6b6g+zQt25+lO84GEwQ+Lw0xL/dmqNIwYKoXKc5Fu84A//Ij2cy3pvjmL3vBqJjYhAT+27HsLi0GUXyFcagGetx3/QZ3B0tMKhxVZTW6yNHHBSOGtkyoduUNZJpUxEf4Y7pPWujaPVW2Hf2Kl68cYHB0fnImjsfpu5VNb5KOGrisqnauEW5Y2p3PWSSwtEnPqo9RfpYonrJQqjfdaYsHEbHFuGvNDmkMO8yfHy94OBgDydXN3h6e8I/RDUkD83ugDylGXEkWQJZOCSxW3v/w8IR+MYILSoXQo0uE+GmJAMlXI1Po0Gx3Og0Yg5uSp6Ck/MbLPinGjJVaoir7nFwu7kTBaXBMH7t+8s3E8I9EoXjjdTYwS9uoUaWtOg4aes78wy293cja8bsmLKZkVMMllM4MreG8UslxRKF1RM7ImueOrhkrCsXmSC11XaUL5AbHUculAd+SnlfOCQtCHLC8NZVUL52K7RqUQtFG3SFhRc9lBDMH1QG2aq2hZGHegQmBGBOTykkriAZMg3hKFq+Lkw81G361gZd6hRGxcbToKyF8DG+jHp5sqPLFApHJGb0bo5cBevj3KNX8HBzhr2DA9w8PKR29kZsfDzemJxEcak9B049lTix6PHkEIrmzYpu+vvUW1RYnlmDQlmliHSnKg2mSXyYK3o3qIAStfrJ0aCCxYV1KJiFEQedkWjMlqKLXIXr47ShDTwl71Muj6e73O9Ck2awE0lOONoNWJ/ojUa4PkSLKoVRvcn8xPmKpa0kUZAijufqJncyOo3KUvTPerH38IGTkwMcnV3g4ekJ38BQqcXDMHNoO+Qq2gR3nyvechSWTu+LvzLr4bKFam7Q6vwyFCuUOynikNp0RJ2SKNmwP+w1VuhGez9FgwoFUa+nPvwSvcBoWD24gikD2iODFBHP2nEh0evX5OL6sahYsjMeOyR5YRSOPFnyY8uVx+ot0hhePx9FJTGcq7EYx8H4IGqXqojt59VzfFqoJscLYcHOpOs4zG7sRAbJUM/aehPRwc4Y1bw89Bp3w4lLd2Dr6IHzW8YiT/6cmHEuSYziw97i7pk96Fy7PHIWrYLTZo7y9j3L/0UGSTguP1LVYXygI8Z0qY3itbri4PlbeOnggss75qFAliJYoiFemhifW4VMf+bDgl0P1VveJ8TJDK0LZkHNbuNh7eQJV2dHODg5wd3TC95v/dVCFo8r22ajXNmyqFC+OOp0GIqXb1V9TJdwXNk9E9nySxGHgTriCLFFjwb5UaLVMDipo3ES5WqCZiWyo1Gf6ZLLpxCNZw8uYULvJvgrY37M2v7xVWtJwnFtLYoVzP7O5HgSCTizdgTSpC+ETVcsEBYaBPPre1G9cA6UrNJPHXFcRbUsUug8aVVixBHt/gRtKqZDpU5j4ewXjLeudlg1phP+lz47pu5TKfLaKd3wV7ZquGjqJr+ncEz5uxIyVGvzjnBULV4AdTurTjbw5W3ULZQBNTqMwsPn9ggND4OXoy2M75siUD1+j83rhD+ySQ24/wZc3LylTp6ASxtGIn22rFh9x1b1JQkKx4DaWZCz/RjYSzYuLsRDFrvsRarj1ENbhIcEw98/AOFR0Xi0bwnypfkNM3bdRGhoKF6ZXkX7qnmRrkIjXHaJkULhl+heqzCylqyLvRcN8MbREdZPjWH+yhkRoT4Y0akG8pTpipc+0pCL9MG0btXxe47SWHfsFuydHPH8iSGGt9VDzlINcPMlO28kloxsiN8ytsBDDeFYNaE9MueqhYsP3xeOmCBn/NuyLDIXro3DV41g+cwCj82kUNjEFC9dVRGKxysjLJu3ADdMdU8WB1s/QKs8mdB54tJE4SD2D4+hWiHJA/rf7yjUoCeeebGlY7Fj9t/4LW0ezN58Bm/s7XH7xCbUKJwRf1VuiQdu7LUhmNO0BgqVrQ1jDeHoVKsgyjeckiQcDy+hTq6s6DhhtfzeYOcM5MmcBYPn7oKt+1uEhwXB9qkZnlq/kT9/Y3IcRbNnRb/JxxOFIzpEMh6tyyNzvsrYevq+VK/OsDa7i75NKyNPqSa4/+L9NARXde2b2RN/pM2KCSsP4OUbRzwzuY3R3evhz9+zYsoKlTdruHsWcmXOisH62/HazUcqTzDszB/jqZV9Yp/XJNjRABWLFEDT7vPVwnFLEvS8aNNv7TvC0axyQVRtNE8dcURiRad6yJK/LLZdeiQJkz8ivF9gWItSyFOpBU7ef4aA4FD4e7nA1Pg+XOQOH44Z/7RBjsINcUdDOJZM640/MkoRh1o4bC4tR97s6dFViuhe27sgIioUp1eNQNp0WTBk/k48f22PN6+ssH5qb2TPVhCLjjyQzFcMHF++grOHL6KiIvHk/BYUkDzg3nO26jxnk7MrUbGcHs49TZoQvrF0InJlyotNl5MmzB+sm4fCaTNCXyPiMDm+HGXKNpJ+mzQ/osn1Iyslbz+/5M0nXcdhen0H0v2WHbO33UKAgwkaZv4DTYcsgGdAKDwdXmDmoOb4M1sOzLlkiYRIqf+8eA0f/1BEhQdh3+T+yJg2O9ZdUonKoZUj8dsf+bFg8zk4efrB+7URGpTNjoq95sLVPwTeTs8xXxLodH/lx7K9uiOKh9L5Z/g99wcjjoRIfywZ3AAZClTE5rMG8A4IRoi/N8xN7uKl+qJrJ9PT0CucF30lB8jK4Bgq5M2OntN3yJPasUFv0K52KZRtMCIp4tg7GxnSZsHopYfxxsUdkbHhOLpgENIxq7F4L17YOcL+lSVWju+BjFIdrjzKtojCGztruHj6IlpqW7Mzy6Xo7S/0mnYwMYJPjkTheHl1NQrny4aZe1VzBNo4Pr6M5pWLIk/R8mjepjPGT5uE9pXLoVyVnnCUrEuQxRXoZUqHThNWJBqbhOggbNcfgLw5skthUGN07z0MU0dJjZWzEKbsVnkNayZ3xR9ZquD8Ixf5PSJdMalLRaTTawUzdage6f0MVYrmQe2OU/BWthDRuHV4meTNFUCh0hXRvFVrNKpbB90HzYe7eg2gzZ2dqFo0F7LlLoDWPWfAIyIGVzaNQdrMmbHqtmoijcT4vcaAGhkl4RgLJ+k7d3dNR7r/pUG2guXRtn1HtG3TGk2bNMWUpZvgZPsIg1tUQva8RdG4RVsMHTsdvduVQBa9hjhnp3LtXxqcROtaZSQvpyAq6UkeekU9zN17VRKeQPzbqSpyle4MKzdVFORhY4h+LWsif4EiqMzvlpa8v4r1sem0icoQJgRh0fB6+L8MzWD0QnGFo7BibFtkylEDF3SkqoKcTNCkYi78mT4rChcugkKFCqJAgfzIm78Aei7aL3/nwcHpUsSWBkMX73sn2lEIsjJEi9wZ0HH8kneEAwkxOLJ0BNJLv81VoyvMPVSfuj67gbbViiFzjtyoVKMR+gweivZNSkuRmGSo5fmLYMxsWh0FStfGQ3fFGbBGxxr5pM4/SRqU8iZ4G11AzZyZ0W7ccjlqjZWitFWTeqNg3ryoUL0OWrdugVrV6mPB9ktyx3aQhKNI1ozoO/FoonAQV4tr6MnjFSwCvapVUaF0cZSu1gg7Lpno9JJJkOtjjGhfA5mzZEOZilXQonMfzJgwEmVyF8G4xWfk78RI5VkzuQ8K5cuL8ury1K5eH/O3XtB5ZXiQ/X1UKJwPjbvNlQd8kN1NlM2bE637rZakVEW48wM0rZQPlRvoq52eBBgcXISSUtSUI39h9ByyHkHR8bAzPoUW1UsiX+ESaNi0BZo2qoeWUhkfOVKCIjBtUCupz9bDbWvFmYjE4sm98HuG8onXRgQ5GaFXkwrImDkHKtXqgpvWnogM9sKSMd1RSOof5SpUhl6l8ihavBxGLTqAADZdXADWjx+EOvUaoI00FmrolUftlv1w01L39QI+z2+isV4pzN6b5IBeXzIe2TLkwYZLScJhuEYfBf/MgFlHFeGIwtbJHVGlzRDdc6QS1w4vR5YMuTFnW9I8ldn17Uj7vyyYtvEqYiVhWD+uE3LmyIPq9Zqg95DxGD1MisQK58bsSzaI87HB6K5tUK9BU7Ru0RSVypXD3yMWwkE+UWns3juO2iXzIlvOfGg4YDKsnN2weeZA5MqRC1XrNkGPAUMxYXBPKXItisXJXL1udHq5ZD9yYO4O3RGJgtdraey3qibZiUKo3bApWjZrhAZNW+LCEyfJJtlheMvKyF+pJR65sGzR2DCuvWQni2DXzeeIDnOWhEPq0/WHSWVX1ZWL+RW0rFoUmbLmkuzkQJg4BSMqyAXzR3SRL+YuV0kPVSqVQxGpbcev2A95OiPOG8undEWtuvXRpnUr1JDseb12/XFPvWrxQyQKh7+TBQ7s24VHL5O7gCRB8lQfY/fGNdhx8BzcfP1hcvU8Dh25KofYUb5OOL5jG648ePrO4IyLCMC9S0exavVG3DJ5AV+Pl9izbx8ePFcdx8LoKrbuPA4HL7UPFhcKo6tHsf34Rfhw0b9EbLgvjh/Yi9OXjaBedSeRANeXT3Bo1wasWrMOR85eg4OHf5IhTIjFK7M72LJ+NfafvIOwuAQ4Wxtg246dMHdNykfERwbi1skd2H35gTRAY2Bx/xzWrt+IbVs2Y93atVizZg1WrFiBo+evyR5WgPtrHJaOuWHnYbySPPiXpmex49hpvAlM8r+CvR1w8fg+rFq5BgfO3oBHoGQ2JK/23uXj2H34CnxDk8xcZJAXbl88hjUrV2HnwVN46awRRSRE4fG909i84xw8uYxIJg7mhpewY9dJOHpq5NHURIV44fyJPdiwcYNc/rV8SeewcvUanDJULRsO9rTFueMnYWnvrdOziPKTQvw9O6S2fPyeoY30c8Kx3duw89gV+GjMLnq9eYYDOzZgy/6TsHPzgoXBeWw7chru8jpIKVo7dwL7Dp2CV5i6TSP8cPnkPhw+Y4RQ1bhFhKcjTu3egcuGGn0oNgzmD65iy4ZVWLtpO67cM4F/iOoHgV52OLBzB24+sH1PAHmfqRvnDmL16hXYc/i01FYfv6gr3NcFF47tkY/z0NoRQZ4OOLl3HwzMVBGOjOTJsc+qyiP1d6k8furyaBMd5I6j+/fi7DVTWdg4kI/s3YMLtywS07kxUoR77ug+HD9jCuUOLglx4TC/fwkb1q3Gicsmidv93W1x/shuuS13SedkaeuKGLmiYmF8+yJ27TsDNz+lT8ThsdENbNl+FI5vk/KV3g7PcGjnRmyUttu/VckXL1R8angNW9atwYZtu2FsYZuY9+dyXcfnZji4ayNWSMc9KI0zN7+kNNR7xPhAf2ALNOs5FcqqWpfHhti1Yw8sHZMcHQ8LU+zbuh2PbFXRULibGdrWKI8xq0/q7JPE+fVT7JT2Y2Ktzk5IeDs/x7bNO2H0TJVuign1xfXT+7Fm/WYYWjpKUYcZDhzYiYcOUiQWFyWNnWvYJrXdSunzi/dMERyh0cMlm2FnboDtG9Zi98lr8gW5ceF+uH32INas3Yh7T+3g5Wgjjf/9MLNJKoMmnvZPsX3Lbpg+f3+xhDYRAe64efaI1EdXY8vewzC2tENUbLzkxFhhz5b1OH+f8zIqAt1ssFMq1zkDS4RHhuDK6UPS2LmL4ESPJR7ONibYuWUdth86A48glT1i2z42uIzN61dg49bdeKRx0SDP18HqIfbu2CTZqrU4cv6m7uvldJAoHAKBQJAa8Fqo2nrVsObsE/WWjyA5VQcXD0flhl1h6pTKl8sLvgpCOAQCQeoiCcH+FePx99BZsOfVix/B0+om+nfqiA3nTNRbBD86QjgEAkGqEx8TBk8PT4R9wo0aI0L84enp815aVPDjIoRDIBAIBClCCIdAIBAIUoQQDoFAIBCkCCEcAoFAIEgRQjgEAoFAkCKEcAgEAoEgRQjhEAgEAkGKEMIhEAgEghQhhEMgEAgEKUIIh0AgEAhSxC8nHAkJCfLrc4iPj0/Rb/n9zyUiIgIvXrzA27cff3C85nG+5Px+Zr5Vu+iCx3ZwcEBQ0I97g76QkBC8efMGsbGaN6D/AWCz/Xrd9acnDTv91atXMXXqVMybNw9GRkbywHr8+LH8ftmyZbCz0/1g9k+FRtDY2BiXLl2CpaUloqN1PQLmy/H19ZWP4eWl+37yVlZWGDFiBFxc1M/+SAGBgYGYMmUKrl+/rt7yYS5fvowZM2YgKuqdJ1p8EizfwIEDUblyZXkf4eHJ3+qY5zRhwgS4ualu8zxr1izs3btX/v9Xge3977//4sED3Y/z1MTf3x/Tp0/H/fuqZ96nBqdPn0bPnj0T2yA5IiMjcePGDdkh+JbExMRg5syZ0NfX/6hwcOzfu3cPz56pbsH/1aHgp7KQ/2jcvHkT06ZNw8KFC+X2Z3uwDyxatEjeRpv4udCx3Lx5MyZNmoTt27fD1VX1uArab9oOtjltemo7k3LE4e7ujho1aqBBgwbywCKvXr3CoEGDZAPIp919Lk+ePEGzZs1QpUoVNGrUCFWrVsU///wjG+IvgWJ08eJF2dNToDhVr15dbhxdcHuuXLlkY5tSvL29Ub58eWzatEm95cPwGR4817CwlD+7devWrShQoIBcXnt7e7mjJQc7ZalSpWBtbS2/5/mPHj1a/v974+fnh3Pnzsl19zWhY5M3b14cOvT+88S1YV+nIKeWuFK0OnfuLA/aj0UyrAeOsVWrVqm3fBtu3bolj0Eak4/B/vr3339j8uTJie8vXLiQaJC+CgmfLhwPHz5MVdH/FtChYLvT/ilOK/vh0KFDcerUqS+KVOmYsn3Sp08v9yvaRUJb2Lp1a5w/f152qFObxFTV4sWLUadOncQDcxAyEvkSnJycUKFCBbRt2xY2NjZypGFiYiIbVUdH1YNXCLd/zDPXNp4Unlq1asmGSYGd/PXr1+956MpvqbzFihWTy6IJz/ljgz44OFg+3o4dO9RbdKOcB40/O4t2WXiucXEfvg8ovYRWrVqp3yXB32p7jHfv3pUFSjkndk5GRprwN/R2dcGyfEpUxN9/rNzaZWOZKlWqJDsPulD6mjb0jj6lTMrxOAgpnidOnJDfa6J93h4eHqhXrx4OHz6s3vJlULQOHjyYrEeneXyWl9/XNZB19b8PRebc76d6kbdv307WmdKG5aAzpoi9j4+P7FTSQdFFcm34KXzst7rOf9iwYejVq5f63btwnH+ozsiH+tWHPvtQX01ubGmya9cueZyy/5Hjx4/LRj014PHbtGkjZ1MI227lypXJjrvUIFE4nj59itKlS8udzNTUVD7RLw1vli9fLnvOFBBdMKqhkevYsSPatWsnixdzsYQVTK+QykkPmp/zaXwcfIyKJk6ciJw5c8qqypCMoR+VmwZbUXV2Ij4Br3379hg1apQsWGXLlk1MFdy5cwdDhgyR902vkQZAE0ZbXbt2RY8ePeRIo3bt2ti5c6f603dhYzEc5b6YLmLqj16eIhyM2lgf3B9fe/bsec9YsL6PHj0KPT09FCxYEGPGjJHFjgZ47Nix6NChg/xav359Yif/kHDQoFKEeDyKN8uldFwe+8iRI+jWrZtc/wx3dRkvMzMzOQ3E4/J7FE5lcFpYWMhtRI+W0Sm/o9Qh65h1myVLFvkY8+fPT4xmmU7s3bu3XOesJ6VMhGkfGoYuXbrI9ZXcgD1w4IB8vL59+8plYruePHlS/Slkp4fH6NSpk3wM1gX5kHDwWDTs5ubmCAgIkNuOaYTkDIqhoaF8jkxTjRs3Dra2Sc+y5zhi2VhnCxYskPs1++7u3bvx6NEj+Tscc2fPnpXTn927d5f7GQc7PdTx48fLfWnjxo3vCDLHDPsyP+O5sR50tRvh79hfWZ+sC44fGldGgjQsdOIU6Ciy7xEaNY47Z2dnOQ2aPXt2eQzNnj07cSwzeqHHzH7FsqfECLJPsd5YfgqBEi2zno8dOyanytgfeczhw4cnHpPlKl68OEqWLCnXDz1twn7FtA/7A3+zZMmSRC+eziTbmsecM2dO4vjUnDtk1Mj0JT/juTCToUDBZTuyr9LmsE4UeHy2PT9bunRpou3SxfPnz2WnlY7uy5cvsWXLlg+moFMKpxXopLF/MPpNDdFgvXCMc0zQNvGvYlsThYODhoaOjblv3z6d8wSsGBqA/v37y52GL6adaOBYYE1YKc2bN5c7SHICxONwELBD0DDTWLJDE6aT8ufPL3veNJQ0IuzANA40wgylmXZix2WH4KBl4xQtWjQxlOUjGUuUKCEPPv5P45ItWzZ5kpAwv8j9sAMwR1i4cGEYGKieFcy/9GLZQTk4W7ZsiXTp0mH/ftVzuzWh4rOD0+DzuxSy3Llzo27durKR5fnT8NevX18eYDQeLAv/asLv0WtmWo+CS2NEEadhZD3RqLKDspysO8JBpi0cNJSEnZ4DkwOHBqRIkSJyXfE4FM0yZcrI9U7jxTbQ9pxYdtYdhYgdniLE86LhJxSeTJkyyYOVAkIjw2NwroGdjB4Q65uDkU4B+8SVK1fkKJRGjAaTws/PafxorFiHGzZskNuEZdYVxtPA8Tg0yNu2bZMjZQoUz4Ncu3ZNTiuyL/EYLB+NMvsNDUZywkEjw/5FA8J6Z50zraUr1caUCT3xuXPnyt4498/j0Cgzvcg2ZF3zfNlW3M7j89zZhoQiyxQbRZd9gQLP49EYsQ5oDAoVKpR4XjRajGIpRiwn24P9RJeTx/dMXbBv8DjsV4yYWWdsZ45h1gP/p1FlfbF/EfZ1lp0iy7ang8Zj8ni0CxQ8nh/n4Vg29m2OM8WQfwgKcc2aNeU+SnGlfWjcuLFskFgWGmGOOx6fY43lZ/+gqPBYPA4/pxFnOzMTwHKwLVjPNMjs1+x7rAOKCh0+vnjuHEu0MzwXwjahMLAuKJ60bxx33C/HltJedI7ozPBFW0nDzL7KPsbxQEfwQykh9n32EYob29bTU/XIXE3Y/yh67A+sF75oX3kuFJsPwX5Oe8k+m1rzU7STLDNtL+0F+5pin99ZVUUjSqOU3BwAT56dlB2aJ8gXlZ5GQFEiBQ4UVjoHVnJoh5X9+vWTOwmhF5IjRw5ZPRXoubIyCSuenYUeigIbk94IDRc7ITsQO4ICOxUNmSJymqkXfp/74/mQwYMHo2HDhoneHD0sGk12EG048PLkyfPOwGE5Od/A39Ooc2BqpgvovVEUdXkpbAeKODs10U7TUSzZuYgu4VAiDk1PlXCwMKTldhp6Gl8aueTgwNPcB9uLZWb7E9Y9hYNlIOz4PGd6dIQGpmLFiolizN+zI1KkFVh37CeMUCgI7H/aTogmLI8SBSpw4ObLly/RwNL5UcJ2QiNPb4/lYYqTAq5LOAiFv0mTJnL9sC9wIDL6YDvy2IqBZv3TyClQKNn36K2yH1IQONg0oQhSGDgQCQ0j20Dx/BmJ0EivW7dOfs9jsR8o50LxZVtrGh3WJfstU0qaMBWsPZfD/s/v0iiyvPRQ2Vac0xg5cqQ8HviicHIynXA/bFOlb7NM7F+sI2WekttYFzSK2n1OGzoX7L8KjATZR+iEsH9wP4yOFG+chp6ZECXqoEjQDihQfNj2mmOLNkpJSbOM1apVSxwThKJFh4XlZt+gQeR+FDgm+aItouOlwHZlWfj3zJkz8u9SMrFNIed40Yz0NKENYp+gwLGt+WIf5AKl5LI2CrTZLI8yN6UN+y+dax6bY07zxX7HMafdduxT7At0hFku2kTOyZBE4WCHadGiRaJh/lIU4aDnkBw8GTYAIxYqKxulT58+8mdUTQ5ExSgRdm4qPn9HL5Cei6ZwKOk2pncY7jP60AyhKSj0VhiZEBoEeqzsHPQ6aPzZSIR1QaOhQM+FEQQ7sjZKJ9L0CjhIacTZOVnZFB12RJ4nIzV2Zg5IXStxFOFQBg87FA0dU0Y0WDQ2jHDIh4SD0BOhd8ZG5/foOXKAUuh5PqxDpveUNJI2FAMaHx6bXioNuyKurHsOUCV8Z8ej98j2JIpwKKudeK70VOndsfwsE0WARpblpIfLAc3vMEJkH9KG5aTRYv0q8FzY7mwHeqYUae6D7cr+TGPEActyfEw4eJ4UR2Vw04AwGuA++KLgcx/sHzwO98/zYNtmzJhRFh4aZgpbuXLl5LpSBj2Fg14qU6aEBo71pXiqbEOWW3M+gUaSxpJwnyyDJjwe+62SflXgGMiaNascPSj1wGiFka6SGqQxSJMmjdwPlclv9g1GTprCwb6qCAfPjWVWPlegg0ivXhETXXDc0nHhGFTKxPFOZ47jiv2coq9EZIRtSoFTxhb7v+JcEmYjGHFqRoWsR9oeRskc42xvzYUTFGaOE7YHoxSKqfY4pNFkW3HMaPZVZj0Y6TDyYlkpzrQZuqJSTVivHPsU6Y+Ja0phe3I8sB1ZRl1wHNMusH+xvjRfPAdOB2i3HVO2rHsKHn9PjeB5kETh4IQYDTU7c3KwoukxUIVYQL5YeTQoijFWYDin5D81PXtNWOEcfFRWhtIcjPQ2CIWDYSlDRAUOanZq7o8Npx1xaAoHjZku4eA+qa40MByQrDjmU9mxOKhYFsI0G0NWBSXk1SUcDPHp9Wh6ymxIRiwUDu6bxp4GmuXle54voxilITShF6kIBwcb505ogBkmMkXBclB8iC7hUFJVbEsOIHoM/B3FkW2nRDKsQxox1hnbSTs9yeOzzikuHKAsN+tLieJ4LjwvJfXHc+E58zeEnhk7HucCCA08jSk9aEYH3B9f9BYV4WIZGMHyfFlW7ZCeRpbHoOAraAoH+x3/Z15fOQYjGaaMeN4c4BQuXcLBNBbFlBEV202B7cR0D1/sj4rxZP9mOyrnobkUnN9hX2Hb0GDT8NEw0hgpEQfbh+2lGB2OIQ5szUUpNDQ0OIROk6a3TXhc9j3tVAbTtUzf0XFj/+T32F4cA0qfY/T822+/yXXNRSWE0a3iZRJGpBQOZRzRELMPaDuEinDoSi0qcN8c4+zbLBPbgC+KEtuVIk3HRnFMCPutEpESCodmtEmjRmHQjLj4XUU4FEdBSe0S9i/2Af6G6VD2b0VMFdiO7KsUNqUfsaxsG8Wh4V+mctmmPCfNFZ7a0HmgYGo6PNqwf3KuhTaV7cyX0ubJpZ84PlgHdHTY3zjedEUntJmMMpmCZX/WfPG3uiIOOm+0z8r41iRROOi58EvceXKw49N7pqFlIfliKomei66cHStV8fQ0YWMqA5hCpDBgwIBEb0KXcNDgMBymMWXDskNz4CrQULFxKBzshPSOOTmuwIFK74aGhp2LOUF6uoT7ZAdS0jAcsPR+FZg64/d1paqYimFaTXOZIKMjChsNEBuLk3qKAf0YFI6mTZsmTmRyYDMvqsDBpXihFA4aG03hoNAQDhjNFSgc3PSmadQ0YajKelHmLhTobfK8NMWSv1fSjzRErGNt4eC5E3ZKDj6mAwgHBj1gRdi00XQw6O0wmlHaR0FxSOixKrCPMGqhcBDNqEcbGgiKAw2BNjQKHHjaTpAu6Pkn592xLymwr7Hf0GlgX9COOFhfHxMOJS3JyJF9in1bgdEpz0c7OqMhoCPIFJAumGLh+KH3zTHF/sTysex0zhThYB9gmZUJY37O7/I7mufJccs6YRtyfDMtossp4rlQmHRB0WFZOPeoQOGgXVKEgzZCUzwpDhROplwU2LYcb6wDCh3tjC7h4GdMJ3LOg2NUgXaO50CRU/qyNpp9le3GfSRX14TOER3Z5NJUhM4sBZpOEQWNL449/lUWd2hCZ4vnotgdjkPaTM5Xfik8P7aFdmSpIAsH1Z6GikZXV3rgc6FxZ+WzA9OAU3TordLzZaMqk1JsPFYOvVdlMHI2n42haTjoedHw0KDSG2bKgupMg8EIg2LDyUQlvUXjQe+TBo5ix1COhpBelBKKUoy4MonloofG/CJhh6UxYthMcaKx5ufaE9qEdUaDyvLQO+G+2HE5GcnBww7BgcWQkJ2L3i+Po0xGaqNMpLMD01By3xyoPC92FA4UxQtl3dE4K8aO3iANDOG50RAxtOZg4veYKqDh4YoxzlHRSCkRjbbBZL9gnTEK5HEYIVJglIiD+2QdKc4G24XnrERDNDo0/hx8HBBsM3ptTOsxsmO5WJ/8n94O646ixPrhfAwNhrLiRhPWAVN/9N64P3r0bFcl/0oniH2HniuPQQPN/2ko2O48Jzo72jCUZ5/UZfC0oZdMQ8CBxT5Kw8T6pLdHB4blpxDTG2RfoLixfjSjWjpd9NKVKIV5an6uKeAcvEr6lhE15+2YNuF32B40FLoMFs+BDgj3R+PDdmbUyP9pFGl8KUqE+X2KG+uN4sExq6Q72QfYb1kvbB++5/dZvxQtloPpO44z1jVhmzBi11yBpMA+zPpgNM925ndZVxyT7O901hTHhHDs8hyVvslxw2OxvlkfdAToLPFFO8CokNEGHVIKG8tLh5B9QIERH/sAP2OfoKPBc6YI0UFjm7KOOO7ZV9nflTZmP+L4YR2w3BxHFDqWkQ6rLngM1jftq2ZW4nPhedGx4rjUdIAYMdORo63SXDX2OTCCpe1QnD5t0jB3xQqnF8gKo4HgttSCDcsJOA5uNhA7KzsoBxG9CKa56IGwQ7AS2FEIIxh6ZpqTtzS0/K2i9hwM3CfFg6JBA87fKCEj39MIU5zooXKwc+Ao0RG9ABpSNiq30ytUJnJ5DL6nR6iUmeVLzmOgx88QmgLMuuSgoHFSjBDrgdsZ0vJ86Tkpx9KGnZEdnXVE6LmzjDxPnh+NrZJzZv1QlJWOQmPEYxN6u5ynUVbJ8ByU+mOUwfPiAKdYa04uasJoUUlJKoZHmUikuHMQKs4GjQ7rjAOQ8DiM0FiHFDp+j+fEORPWOwWRZVCWArNuORhYJh6P+1HaWhNGLhR0iiuNKkWedaKIDOucx2BkwmOw/DwGhYsv/s+BpwmFi+31qVEhYX/kIKWxY0qBqUR6zex/9KxZ72xrGjPun+Wih694iPRyWV/KeKOAUBQ1007KiigFChD7AuuIHj69y+Ry5qxvGjWWg/XNxSfsW/ReWX+ajgL7G+uM9c3/NSNxHoNOEfs3z43tzLahqLEcdIq4XwXaERprpV9ow++yTVgungPLyO/y2CyD5hwP25Tiq6SiOBfDvsQoS1k+TE+b45tjj+3NdlDSsaxbOhia7c1xx3pnXyC0QxyPPEe2I/fL82a9sv7ptCn9iGOA7ciIjbaLgsM+kFw7UIB4vhRiCizH7ZfaV54v+zBXfLKu2B48Nh1gprr4oqNGp/Nz4fmxLya3jzQ8IBWRXjFf7Pi6BuuXwo5Bg600lgK9DHZkxUiywYgSNmvC99yuCctOo6mUWddvNI/L32vug+ereHxEe//0SjQHgPb+NeG58FhKB9L1XQ4AHk8RFF1ol5Gw/BQfZZ+an2seh/9rfsZ65e9YNqL5XXZgfqYMsuRgaksRW6JZBs39Ee3jE7YP20lzOwcUj62dE1fqUDudpgumeDR/r31cHoP70j6GrjLyva6B/zHoffI8eH6acCzx2CyDJprH5t+P1Z+usnIw85ifUkeE/ZffV8YA96nrXDXHoPYxmRbhWNC0Dcq5a/YfRlw0wJqpIV0ofU+Z21LgsfnSRNsesY9wDCl9mvA7rG+WURvt8+H/2ufH8Zhcv+M2llW7LZW+qt2/NGGd8nf8bmrZV7Y/y8T9KSLE81G28Vg8jnY9pgSW8UPlfGc5rkCQmmgPTsHn87PUJdM1jIC/xNsV/PgI4RAIBKmGErUI/tsI4RAIBAJBihDCIRAIBIIUIYRDIBAIBClCCIdAJ1x2+bHVVgKB4NdECEcK4DUTvKbiS+H1FcrVwj8aPEdeb8IL+TRv4MZlxMqFlQKB4NdGCMcnwnXcvPBI82Ksz4VXamvea+lHgMs9edEQLx7iVbW8cZ5yGxPC9eq8IpwX2wkEgl8bIRyfAC+E4W08eAW8clENL2qjYeUFN4RXc/KWEZoXJSUHr+DVvB/Ph6Bg8Qpf5YJBHp/beAXtpxzrU+F+eTU5bxPCq8N13XGV0RavhE6NqEsgEPy8COH4BHh7Bd4eQbntAQ0qbyHA+wDxFh+8Xw9vv8D72mg+BS45eJM43tfoY3BfvGUI7+3DBy4xKuA6ed6DiPeW4r16vga85QTvBaUtHIS3quDtGcQFXgLBr4sQjo/A2yrwPj+8N4wC7zHE+zTRgPLGgbxPEu+VxStmtW+hoAvex4g3qNNE+8pgvmcEw+MwRcQ5ByXC4G95Xx5dt0fg7z72+hiMOJITDt4ehvcdU+5HJRAIfj2EcHwE3hGUdwflhLYmvNcPBYU30vuY982bril3uGVkwjv4UnB4Iz/lRnwfmjvgTdp4p1jlnllMdem6Sy/TZoxGuD/ul2kl7RdvyKd9m3ttPiQchHdFVR6oJRAIfj2EcHwAzm3QSNPj177hF+/aydskKw+4+RC8NTHvssk7//IumrwFtHJXV94Sm59p39JcE96xlbeK5pwKb9nNSXpdN3NjGXlXU97Fl/vV9eJtrLVFUJuPCQfvR8TycE5EIBD8egjh+AB8KhqjA10PRuEttfkMA+0nr30KfJ6C8tD3T4FzK7xNNaOMDz3HI7XgHAcnx5N7dgBTZHyWyYceCywQCP67fBPh4Iog3v5X1w3QmOah501P+mMwv87lsLoejfg14HNKKA66JqG5wooP4fmUOQ1tGDFoz3F8CKaE+NwKGmuuxvqaF+bxWLwPf4YMGeTz1jUnwm2MxJiu+tDt4ZOD/YDPR2CUxZQfI5cPPRmNczs/UlqMZUluRRvrhtfC8JkPyi2v+Z5zYNqPFBAIfla+unAwpcOHD/GhJ3zwiOaELpeV8kHwNMK8TuBjUGSYbmGaR/NhL18LetR8YIz2xXo0GpwYT+4RqB+D5VeeNPipsO64iiu59FFqwAiD15dwjoSpKj65jyvGdD1vgA8kYrrqQ48aTg6m3vhccs63cD9Dhgx55xHCCqxnPniKD/LR7h+M9DQf9/ktYX9gxMhIVFs4OQ/FJ/zxsazKY4aZOuQDjz6WIhR8G5jSZfqYtoQPPfsUR4x90djY+IMX7tJpoFPLB8wpD6XT9RREBToSdJiZQeADrPggpuQckh+NryocTPVwGSvz7lwdxMpRrnuggFBM+FSslHqt3B+fKve1lqMSlokTzD179nzvoTf0mHlVNYXvc2CH0nyW+sdgXTFKUZ6O+LWgYaNR5xwGowD+T+PMlWXaUFCyZs36WQLOB9vQI1fSgBQm9hVN6CTwSXJ8shvFSYl8eP0MH6LPxwxTfL4HLAuXSrNs7L+akQT/Z3txO9uMRopzRjwX5RwE3w+2B59ayacZcik9o2a2o/ZDmjShyPDJlJzT1Hy2uTYcC3wmPB0ursLkQhg6V1wdqQ1tCC8Eph3jUwXpXHP/vABXV2bmR+OrCgcHC1fyaE8sE4oIn4+ta5L3U+AFeb169fpq1xPQWPI5wryO4nvAdAgvxmP98JoRXvfxIxkeCspff/2V+PjOlELB4CNQFUdCGw48Crfm0xcpIIxO6dHzWeeMVr8nnHti1EQDpA3Tr1w1x4h7xowZXzVSFHw6jBpozJXHNjNFSgeIEYI2HG9MjfMZ6MwwJJe2VuA++Cx1xdGkc5kuXbrEZ8xrwjQmv6v5yF2Ocz4znBcT/+h8FeFguMUGoeGlsrOxlIvnCENDCgq9Mk0oMGxQerOKF8cK5r64DyVnTHjfJD60nrnjrwENNieI6RV8D1hHNDx8DCcflv+1BPJz4Qqv9OnTyxPp2jDlxfkhzklxELGt+F55Ljrhkt7kUn0UzKpVq8qpBE3oFdLTZzTI61qY4voaUMyYNrh27Zrs/bHvsvx8Vri2E7Rz5065LJqPHyb0TOlx8jy5ku1rQlFi+ZjOY9nv3LkjX2ejPf/G+qNXzJWAvPqf80yKMPOmltwH/9JpYcRJp0Azvca7FdDQXbx4UR533IfmmEwprFv2DaZ2lP0wWqOHz/H+NdI2dGYZFSh1w/OvUqWKHL3qcnA5P6XUG436h4SDNkuzPvhbOji6hIOixEhb0xnkUvpKlSrJ4+ZH56sIh5ubm2wUqLac1F20aNE7HhfTEsWKFXvnIjJ21tu3b8srjqjsSn6YnYfiwyulNQcn00S8p5LyPW1oXGjUGPrRS9X14mdMoemCucqcOXPKRvt7wA7Ic2MOVleH/t7QK8qWLZs8ka4J25ZzQzT8jNYYWbIvcECwbXkuNG58wD+Nri7orXM+J7mr8NknOIfAZdKpDYXu1KlT8kWa9EwpXrywk1f70xHSvt6GIsmysJ00oWHivAajYs1UVmrDHDnFicaPKRIae3qyZcqUkf8qER0FoG/fvrJxohfNa5B4PjRu7Ov6+vqyADKKo4DQw86XL1+iR0xDzrQO0zycd2K2oH79+u89a/1TocHkvlnPNK6Kx89Iv3PnzvJCEM1oU4FzBpwfZBSna0xzO8uo67eke/fucrkVUaJDRhvF6FZXSlaBYsvUakrS40wtsw5Zdx+CZaCjwvNOzp79aHy1VBW9Mw5+Xfk9RhA0ypp3W6VB4XfZeJz7YApAMZg0EKNHj5b/V6Bh5cBMLiKgN8MOzjCTxl/7NW/ePHmwJBex0CDkyJEjRauffiVobDgotO+5xWiBkQXbhbdgUbxtToLzIkYKPo0ZvUx6sLpg+9CwJTeQaYg/Jhw0TIwUWB6WVdeLn2nntulwsE9QtGhIaSyVJdf16tWThUATloV9lf2JKB4kIw4a4a+domI/pShQNJgjZ7ROeIsa1jfrmOdEIaCRVgwmF1tQzDmO6ATwe3QC2Kack6HhpTFjFMMXz523m1Hg3B/r4nOdGjqKHO8Unq5du8rzQdxGOP6Ti0bplHJMJjeuuZ3nkdxqRwoEo3glnUQ7wWM3btz4gyKYUuGgIFOgOB+nGVVow/lEOlgUT7YP2+pn4KsJB6MMTvzoWpHDdBS9VVaaLthBebU2OzmNEDsWw2pN+BmNy9eag+CAp7hx0krwPjQ0FAYOVm04UOjFMapQJvoY/dGLpMH+EDQe9O653Dc5PkU4uB/OC7Vo0UIuh/aLaaQPXbHPq+tpKDTncHibF56XJjSc3B+jKcKLOdknaZi/VhpVG5aBY40RhVLfdJp4dwK2E0WMiwnozCkwzUcxUQw//1IMuJhFc+Uj2bhxoxxB0mgTii2dtg0bNsjvvxQae65epNGkCLKOv1bdMUXOulLqSRGOZs2a6bRVCikRDtosiiojoI8JAc+XfY1RIKM4TtT/aGlpXXw14WB+PrnBz/wpjbJmR9aEy9PY6TnPQO+HkYG2Z0NPiUaBE0q6YIPRKFDxuWpB+0UPmJ8ldwEfPTmWUUQcumHKgF6Srrv8chKb3qzmhYpMIdA4fCxtw3bmcmV6ncnxKcJBmCumA8C21PVi2yeX0mC/Y3pUWTlHo8KLMGkMNKFAsa/TCBNGUuxbjGa+FYwYmLbVvIsBPXY6VhwnNPy85kjJnTPlSyO1detW+T3hNp4vy64JDStFlm2iQEPHfL9mxuBLYHqmZMmSchlY75wTUKIPbdgeXDjBqIJl1X5xO1Og2pGkAg0660JZgksjzRQRRfNDRp51+7E5DsK+yfkSpglTKgBsp+zZs3+TSw2+lK8iHBxk9C6Tu1aBg5mNoNnRNeHnTBOwE40ZM+ad50IosJNxIOta0UKYDmFDMIRnI2q/xo4dK3uGyS2v48DPlStXiq+3+FVgKM5UHsVXGy6XpnemRIkcpLzNSnIirw3z8BzMSn5eGxozGsqvtaqKERP7COfWFM+U+XimXrX7C40NDTT76feCK9QYoSvXDDBNwwhBiZY5B8LoSqlPOk6M+DWjeK6S42ITbaNF40dDy3FEGOnTQ6fIfMq1V58CJ8M5Yc35MK6WZN9KDo5L9iOOXY5h7Re3U9w1F+NowvFMp1SpK36PTg4zJISOC42/tnAxBcioTfPhZoT1o6T/+BuOBzoRimgweqM9Y2qM/UrZN3/D+UClfxEuxqDNuXDhgvyefYv70U518T3HlCJ03AffK2Xmb3T9LjX5KsLBOQx2Qu0JQwVWJsN+hqi6YIXQ0HAfupbJEV5jQC8lJZNVKYEdiquq6CkL3ofeOq8u1zXBTU82c+bMcmTJDs3JZd5R91OXGdJhoCFRUiMKHBj0oDn/QGFiioiepTJwUwvuU7mfGI/HdALnOriYQtugsJ8wl52cA/MtoKFk2pCGiPXNKJApJyVaojHjZDnbg9ECBZET41ycwjFKQaGnTvFRfqNAo8SbczK6Z70ziqQI8T2vRaKR+1IDxfpmqoiOYGo8KO1DcF6Fc0G8gJNzaDweFxYodoQT2TxfRSBoi+gIc87ojz/+kFeU8XcUGJ43654rtQjtHh+BwGiP9cSFFRQRzvfx+2wf1j3bgY4v02bs6+xjtIkUPabRlNWHPCYdEu3UISNH9jllRSPbkXWnZE/oKDDlxb7wtfgqwsFBRKOf3OQnYaXQk0kupGSlMtepqciasDEYQn8s9fG5sDE5uLQn5QUqOEh0XcfBATJixAh5ADHNxxUuDN2156g+BL161r12KpNtQkeC+6ew0LhzkCpr8lMLRrg8Pie9eWdiDkTOu+kaiExNcRJaMyr+mp6eNhQypoQZDTHFw3IyOtBMwdJgMSpifXHc0XDROHLukBEG98Hf0kix/bThakeOVY43Gin+hoaLxknbA/9cuG+eR3LjPTWhWPB4NPqMWikGCvyf/ZqOKaHQcOEDJ9WZReGqLGYyFONOEeWLUASYQqXxZ/3wxb7B7xMuX2aUzjpkX2Z0xbkijhE6qJwc13SEKSSMrLXnXmhXKfLsm4Tnw/ZXbpRKm8X5rp9OONhx6WEqKxd0wdwyvThda5xZwexEyS3HZG6V+fLkJtdTA3ZgDrYvWTmSGrDTME2iaZg4h8AVLx8K6b829FSzZMkih9eacEAxTcLBwlUqvC4guZRTcijpEKYeNI0wDRwdDR6Df7l//s8BkprGmilUeqGcoKUHntxtJtgvOM9CIVPSBt8aGhEaKHq3LCdTMLrGHeuIkZPSlzl/qDm/w8+V9Iou+F16yQo81oeWr6YEjmcuLvjYwonUhP2H40jTKLMP0Yhz3Ct1w77IPsb6UvoeU4Hsi6wDrtBSHgNNMWCf5Hf5Pe6D75W+sW/fPnl1GseEAvfJSJxto9lu3M6IWtccIsvJcivjivtnVKK0LZ3p1B4T2qS6cLAjM2xi6PsxWGFURuYX2eGZG79x44acIuBfbVhBnPBmJMLnZHxNWOlMTdB7YEf4HrDTceUKPUWm9pROToNWtGjR7zpxT2+HXo724gKKPtNIyrLQz4VOAz1+Tpx+Cy9UE7Y7UzEfEjx+xsianrumIfjWULh53dPHrhX40WBfVlJdtAHJLZT5ltDY875o2n06OVh+Rhmf4hjRkLO/fOqCAl5fxjkqCsiPSKoKB4WA4S6X+ml6Mx+C6s3JPXrVDNuY60xuboSTcbyo5kPPrkhNGAJyEl/XtSjfAnYahq5MDfCCSeViLE4QMhWo7e1/S+ghcjWRtqfNMnLycf/+/e/NB6QU3q6DHj3TK/TmvgX0+riii+mH5DxgloURFVMCuhZufEuYuqNQM6f+NT3M1IZjig4RvXte6f69Yd2xL6eknzHi+tQ+TueH4vGpMPpLaaT+LUl14WA+9EMhb3KwUumtak/OafKtBwY9D046al7h/j1gGKrcUp3wojrml79XCo1txXSUroUDnCym2HElibaofA48Fo3Mt/K8WKecE+Aqo+RWDbFMFLVvJWYfgukjzglRwL5Xf/gcGE2zjj90t9lvyc8kuj8CX2WO478CFZ8TiMlNGn5LuFhAyaVzEi211tB/DhzwnPT7nmUQCATfDyEcH4GrhuhdfygS+hYw784FA0zr8YLIb53314TH56qU1IgoBALBz4cQjo/AFAknSvnY1u8Jc9i8boXzR7zq+XvBCUTe10d7Ga5AIPh1EMLxCXBCnpOlzMt+L7iSilf78h5E3xOu8uIS5R8hvy8QCL4PQjg+AaaFeG3K91z+yvvw8GK375mi4sVevBBKuThKIBD8mgjh+ER4sR3nGLhU+FutwOCtBXjFNW8twCtck7v/zreAy6t5/ybeT0ggEPzaCOFIAVyCySu2v5Vw8GZ0vK8Ob9nxPa8SJxSxL72oTyAQ/DcQwvEDw+tIeAV9cg+lEQgEgu+BEA6BQCAQpAghHAKBQCBIEUI4BAKBQJAihHAIBAKBIEUI4RAIBAJBihDCIRAIBIIUIYRDIBAIBClCCIdAIBAIUoQQDoFAIBCkCCEcAoFAIEgRQjgEAoFAkCKEcAgEAoEgRQjhEAgEAkGKEMIhEAgEghQhhEPwE5OAuNgYREZGITYuPmlbTAzi477NM1MEgl8RIRyCLycuEp4udrC0soTNG1eERClGXIuEWHi7OsDymRVeuXohPFa9/bMJw/3jy9CjRw8cvm8jb/F/dRNTBvTCtM1X8PaL9y+REAU3h5d44+6PeEmLwgKc8eqFFaysrWFlJf2VXpbPnuGVoyvCUuN4/yli4Sv1C1t7d0Srtwj+GwjhEHwxCQE2mDesOXLkzIliVbvggKGz+pN3iXIzxoSu1ZEjR05UHbEM5n5x6k8+l0AcnNcJf/71B2YdMpC3uBhsQcUCmVBx6BrYhcubvggXwwPo0ro1Fp6ykGKZWBgfGoIqZfIgf4EiKFy4EAoXKoS8efKgfv9peOIjopx3icSjg3PRrnlvHDJ2U28T/BcQwiH4cvzMMaZTJaRJkxbpMuVEj3knEPieJsTC/NgClM/6P+l7aZD772l45POlwhGEY8t6IXuO7Fhw/IFk2KWjBLvB4NZlGFg5IfoL7Xhs0AvM61kHdbvOgKUcvkTg5ua2yP7Xn6jW4h/MWbgI8+fNw6yZM7D2wHk4B6t+J0giwusppnSujnp9FuCVvwjJ/isI4fiFcHNzkx9Fe/v2bXh5eam3pgL+lhjXVQ958pZE9YplUbLeMBg5a7n7oQ5YObwBilethTp5C6B4N0k43n6pcITh5PIk4fjSvb1LAqxOz0WlStWw9MJL9bZQ3NraAbkzFcCkzUapfLz/Kgl4fnYBapSohHmnzCX3QfBfQAjHL4KpqSk6duyInDlzInfu3OjZsyesra3Vn34h/tYY07E0ilSuiRmjB6FMsUqYefSpHAEoeJkdRrsaVTBw3FT0qlQKBTtP0RKOKNib3cDahTMwZtJ0bDx8HS7+UerPVCREvIXp1UNYOGUipi3Ygoc2tji+ahBy5aJwGMnHC3A0w7JFc7H97H0Eqq1UbLgfLO6fx/qlMzBh3HjMXrINdy2dP5x3j3LH6gFNUb3pSDz2VeZsFOEoiBm7zNXb3ic2zBsmVw5j/sxJGDteikb2X4SDv3S0+CBcO74Vc1Zth5X7W7ha3sTq+dMwfvZSnLhtidAY9Q4UYoJhcecUls6ZgEnT9HHgojHehillicWbm6ewWH81Llq8ga3ZBSyYPQ/H7r5GbEIcvN+Y4ejWVZgxfhzGz5iHfRcfwifxt4CnzS0sXzQHp+6awc/LHqe3L8WUqdOw85QBvNXfiw1ywsk1izBu9BhMmDgRkyZPxcxZszFj2hSsP3IFb3lK0YGwNrqEjcvmYsLYcZi+ZCNuPHZ4J9qL8zHD6HYVUXPgOrjI/kQ8PF8YYNO6NTht9BoxXxgZCr49Qjh+Adzd3dGpUyc5RfTHH3/gt99+k//v378//Pz81N/6Aigc7Usgf9UWOH/1FPrWKYf6/VfDJVL9eUIozs3vhvIN++DQ6ZMYqFcIuTpRONSGLCYQt3bOQOMq5VCxRh3Ur1sDpYuXRNvBi2HhpopcYkMcsUe/D0oXzIOipSuhdr3G6Nx9MLq2q4/sefJi0Qkj+XsO97Yjb9a/UGvIUjjLyhCBR8emolXj6qhTvxEa1a+DssULo0ztjthz01YyYbqJcLyGLg0rounk4whSb6Nw3N7WEXky50SfKTvxwMwMj4yN8OCBKV47+MvCFeX5DBtGdUO1chVRvXZd1KlZDdXbDMbJx96SBXXDtD61kbZgWYycMxejBnRG47rVUaJgbmQvUh2Tt12Hks2JC3XB4YXDUL1cOVStVQ/1auihpOS19561Fw6yYY/GrdkDkTdtPqmuh2P4gDaoVasNVh59DI+XRpjRrilq162Pxg0boIZeaRQqVBFDlp2Cp1otLc7oo3COP9C4a18smDEOHZvXRelCuZE5ZykMW3VBLkesnzUWDeyEapX0UEvaV73aVZEny+9S38mI3gtPIjA+HubH16NTrdqo20iq2wZ1UL5kUZSs0g6brltrRBeB2D+lJypW7o07jhHS+xhc3zwc6X/7HY1G7sVbbcEU/PAI4fgFuHv3ruSV58Lvv/+OTJkyyS+KR6FChfDkyRP1t74AtXDkrtAUD97Y49TMdihYujkOPvaRP47zfIR/6ldGu4m7Yf/8PnqXySsLh8lbmtoEvLqxCrWKFECTwcvxzNUPoQFeuLRmBIpnLYDh629KsUgCzA/NQvEs6VG+40TctHSAl7sDbh1cgmblsiNtphxYcspYPpaT4S4UzZsZDUeuhItsJMNhde8gTl29ByevQAQH+cDgiD6KZMuIpoNXwSMZo+VmuB4NaxTEP/tMNFJSobizvSsKZPs/pM+SB/kLFkSBArmlKK4CRsy+KRtKm+MLUfKvv1BxyFq88A5EkJ8nrJ6aw949WLL1Lpg9tJkk3plRr/sUHL5rATd3Nzy5th0ty2dE5tIdccbcV9pLNIy3T0TpAkXQQ/8AHLyDEORjj52TOiJrnipYcpqRYgIMFo1C0f/9D/lrdMaOi2Zw8/JDeFQM3r4yx5mdZ/DEzh1BwUFwe3YZ/zbNjYzFu+DsM5UMWl9cjCKScGQp0xAL9l/DG2dXWEjlaFYqLbKW7YFrrzlhE4uAt15wd3OD91t/WJzdhDpFs0ttMAVm7hSAaFjfuYoTJ+/B0cdPqls/mBxfipp506HioNVwClNCiXg83DYatSpWwY6HqklyD+vbWLlsCY7ee/HFc1GCb48Qjl8AQ0ND5MuXTxYLRTj+7//+D8WKFYOFhYX6W1+AWjhylmsAAzd/uBltQdX8BdB/5VXZmL44PQ96ZfSw/JYLQt/cRbdSeZBbEg5Tf+nDBH/sGtIAGfJVxYKTj/HW2x1unt54eXc/OpTOgrJ9VsHR3wOrBzdA1vxVsOuhp3xIFX7YPa0NsmTJgoUnHspbnAx3o1i+LGg0alVSxBMfCc83Vrh++hDWrliI0f06IV+mP1G561g8Yxl0YHt1GZpWKYpll1TLfFUw4uiMfJkzo36nMVi2di1Wr1qGJUs24Pyt13LEYXdlPWrkSodCLUbg3MMX8A/XsIoRTpjzT2OkyVoK848/U28kUTi7vA8ypM8N/cMPEBnhgOkdykv12RQHHryAl6cH3L08YHp6JSplzYz2UrQTKP3q4dKRKJQmE9qP2y+/1yTsrSvM7l/C7s2roT91GBpWyYWMmepi23VH+fPnFxahcM4/UWvQItgr9RTnirWjayNzrlLYcddOvVEFV87N71YLhSq0xyEzd/VWifhoeDlY48aFI9i4YhEm/dMZJXNlQNGa0/DEPUmVbS/NQo2apTDx7HP1FsHPjBCOXwAfHx85LcX01P8kD1V5jR49GoGB2ibnM6BwdJCEo2x93HIMkezrG8zoVB7FW86AtasTNoxqjHINx8AyOAFhtjfxd0m1cARIv414Df1WNZDhz0woWKoMypYuhVKly6BUiYLIkPZ3lOi+DC/sn2Jcp9LIp9cEhi6a8x7hOL1mAHLk5BzH+8LhRrsVE4BrW6ejWZ0qaNqhBwYMGoGhfbuiUO5MqNBlLJ7SwdfB6yvL0KJacWy8/kq9hajnODJycvyhzsnxuBAXnF43CU2qlkTB/EVRq/1Q7LxkhhCWJcoZswY0RPqStaVozEP1AzUGR+Yhc5aMGLXjGt56PEK/psXwR/qsKFm6NEqrXyUK50fa//2GZhM2wiseMF48DAXSFsHw7ZoT9fFwfnwKw9s2Qu36LdF70GAMHT4QLevmRZZstbD56hv5W9bnF6ForrToPXtTUiouxhObJ7dElrwFseWWxnnH+ODQ3G7Ik6skpu00gqIzTDHe3TcHTWpWQ+N2f2Pg0KEYNrArKhbMghIVJsPUOamtHG/qo3qtEhhyzFIWWMHPjRCOX4RXr15hyJAhcpRRvHhxjBkzBs7Ouq+3SDGycJSUhKMertlRDeJwc8MYlC1cFTMWzEXnaqUwYM1V0HaGvLiGrprCEeOCZe1qIH2uMug/Zw1279iKTRs3YuOmzdiyYxdOGDxHoKcFRrcvi5zlG+K6PVMkCkGSQeuArNmySMKhpKrUwjF6DTwl4xpgsQvNimZD1bYzYOrkL0dAYW+uo0HF3CjdfjTkzJAO7K4tQ2O9wph31lrD0CmT4/kxZdsj9TZdxMPNxgiHNsxCu5qFkbVAVaw6a4noWC8p4miItMVqYb+ppnDE4sqGIciYIT/mHHmEsAALDGpaHNmLV8OMFRuxfdtWbJTqZNPmLdi2Yyeumr6QjHcsDOYPRYEMRTFs9wP5vEhcsCNWdJWEuFgDrLxsjVB+EOuG/dP0kCVzFWy8Yi9/TxGOnjM3IDHoinbHxgnNkTVvYWy9/VrZiCeSqJXPnwetJ++Cl4Zu+5ifQ/tS2VC2/Xjct/ORyxDhcAuDa+ZE4bITYKYh8i8vzETtmqWhf1FZoSb4mRHC8QsRFBQES0tL+WrnkBApMkgtNIXj9Vt5U9Dz8+hdJx8yZ82CYpW64NQzlYUOfH41UThM5Hn5KFxZ3A3ZsxXHeMmb1fRGE8IiEENrFOeD7aNbI13GfBi+5QZC5C/Fw/XpOQxqWARpM2bTmONQCUeT0Wtlr/zNpekokf4vtB5+GGHyNyLxYP8sFMv2O8p3GZescPiYbkeT2kXQd6vmMl+VcOTJlA/j1t1FaFw8YqKjERUVhajoWMQnxCI02B9B4Um/MDkwERl/+x/azzoI/0hfLBzRDGn+zIO+i47CXT0H4P/mDoY3KoAsRVrj+GOpUuJ9sHlwY2QrUg3rbigGXEVkVCQiZZWIwr15auHYaZgoHFHuJhheNg/SVumBC06qcvi+uIzBjfIhfcaa2HJNSzhm6BaObXds5U2e5qfQVa8QKrWfBlPvd2MsmyvrUSjtn2g4bgtUs1lRMDs8H3qZ0qGwFHE8dlWEIx4PNo9FnYo1sN9ENccRFegJK/OneOOdtPRA8PMghEPw5fhZYFjzvEgnRRiXXnirtsW/xY6RkpFMkwZ1B6+Fu3o1j7/lRbTJlwHpW4yBkY9qTVOgrWQ4m5RDzgLl0W3YJCxYsAj6MydicM+pOHVXZejcHx5A2/LZkTFfafQaORUzZ07FuFGD0apeKfyWLgP0jxjK33O4tw25Mv2GGoOXwl3affDLs+iulwvZCuph8MTZWDB3Dkb0ao+Mf6ZBsTbD8Vilc+8R62mEgU2rotnQHfBPtJehuL6hFTL/Lw1KVm+Pf0b8i2HDhmDQwP4YIhlgE2c/2Nw8gPFDRmKa/gIsWqCPfm2qIW+Jmlh30QZxcV6YN6wF0mbJjvqtu2DkhKmYM3squjepgExZ86DfomPwVk8LOBsdQLtqBZGnVE0MHDsdCxYuxMzJI9Fr0nycf0FjG4NbM/shS5pc6L/5rhzNkYRwN+z4twUypcuFxt1GYK70u2kTB6NexbT47c+KWH9JNXfx7PQc5E6fBh0mrkLiurooV6z6ty5+y5gDW+6+QaS3JaZ14YWdaVCxWV/Mni+1y+xZmDZ1GjafvoPXz27hn9oFkSFfZfQfO0Mq4yyMGdgCRTOmQd6SY6T6UAtHnDe2jOmIirWH4aE7t8XA8MB0FMufH11mnUCAonqCnwYhHIIvJiHwNZaPa4/GnQfByDFpttnu2nq0a9UJK85aJUYSQW8eYELHpmgybjUsA1TCIe0Bns/vY93M4WhRvxoqV66Ghi3bY8KC/bB2CVV9JT4cNneOY0K/tqiqVxHNuo3E4ZvGOLtnNpo2bYRt11ST/O5Pz6BNs3oYtHgfvGiQEsLx7No+jOjcGJUr1kLviWtw89YlDOrRCh3HLMYLpst0EeePvWPaokKtnrjpqGT1w2FychJaNqgKvSrVUKVKVelVBZUqlEe1DqNwUdqZn/UdTO/XHrWqVELlGnXQYeBEHLhmiiD1HMfMAY2QuWwdbDp+Dtv0h6N+DT3Uafo35m4/D0de66GQEAXbRxewYFw/NKpRBZWr1EDzdj0xa/tpvAmmksXAbOs8tKjVBgtOPUmMOIivgynWTB6IOlUro37nYdh78ToOrumFxo164oihq/wdu7vb0bZpLUzZcERjjsMbh1cMRf1mbXDewgXOD/eiZ1M9VKlWE7Vr1kC1qlWlutdD+fLl8Pf0DXAKiYS90RGM6t4SelKb9ZiwDFfunMHcf5qj3d8rYOWlkrMIh5vo26AkWkw5AF+5oDGwuLwB7Zo3x6QtNxHybiAj+AkQwiH4cuJj4P/WHa4eXoiIVcRAsn3RYfD08UFQVJJliI+JwFt3N7j6BOC9eyHGhcPH0wVOTi7wehugc5lmZLAvXF2c4ROomuuICvWDq6srgsJUxj02MhTubq7w8gtGrMbvw/y94OLkjmD5oHHScdzg7uOHaO0yaOB4fxPqViyD0VsUjz4BkaFv4ebqDGdnybA6q/86OcHZwweh8r7jER7iBw+pjE6u7vAL1RCDCCfMHNgQ6UvUwWFzXtcRAW83F7h7B75j+DWJjwqFl6tUJy6u8PEP0UibSWUJ9IObC4+hMfGgJiEyGO7S7zz9VcIbGSydv4sHgiNUR4oOD5I/fxsYIpVYTUIcQvy94ermjtDIGESF+Er7d4SzdGwXF+V8pfNycoSHb0BimcMDfODi6obACJYuDgHebnBzl9pPLmwM7m0fi0rlGmHXfSdukEmIiYSf71uERCV35oIfGSEcAkFyRHth/6SOKF+nB85Zer8z//JZKMJRvBb2PlJ5/v9t4uH59BS6S1FVl6kH4KPk0wQ/PUI4BIIPEPLmAfQn/It15x5/+BYln0K4E6b3rYs/ClfDbmMX9cb/MhEwOb4SY0cvgpGDOuUo+E8ghEMg+Aix0eEIi4hOhYjDGXOHNkf2Cg1xwPTXiDiiwsMQGS3SUf81hHAIBN+K+Eg4vHyGB6ZP4RX8/ryEQPCzIIRDIBAIBClCCIdAIBAIUoQQDoFAIBCkCCEcAsFHiOUtRb7h9QYxkZGIlu+1IhD8mAjhEAg+QPhbZxjfuIc3nsk8UPyLl1q9j4+dNYwNniAg8gNXJwoE3xEhHAJBckT64/7pXTh+xQyh8mXQCVI0EA5/T0cY3TyNe1YuyV7x/SXEhPrg3pljOHHLEuFCOwQ/IEI4BIJkcDW/hFXr9uNlgPrSv/hIvDa6jkM712FUt7aYf/CB+lYkqY+fnQHWr1sNQ6dUeF6KQJDKCOEQ/LIkfCjNFOeP69tnYt1J46QrxhPiERboB08HUywe1A3z9hikmnDExWmFFjGeOLZ1FdYdf/rlV6wLBKmMEA7BL0OUvwNunT2C8/dN8PqFBS4fO4Krj14hLOnOgYnE+Fhi7b8zcPpB0o35Eol2woZ/e2P+3s8Vjjh42z7G6eOncc/cFraWRjh5+BCuPXqJ0MSyxOPJgc1Yob8bbprPrhIIfgCEcAh+CRJiQ2B9/z4uH1+FQUM6YP7O8zi2egb6jl6LF37vz1QEvrqN0cNX4rqNjgcNhb/BuuG9Pls4orztYXb3CvZuWIxO3Sfj6D1zvLK4jTlz9LH7vurZ5cTl7lbMnj8P5spDOgSCHwQhHIJfgtgYf7x+7Yrn17djUN9BuGDpCQeTGzh85j78ooFI96fYvnwtLpiobj7oaX4IQ/UX4aGbjluDJCMc0WEBcHSww2tbO9i90XrZvsYbZzeExsQjyMMLDi9e4fz2Seg5fiMcGVHEuUB/ZCf8s/oMwlW7g6/5AYxYNgt3nJUtAsGPgRAOwS8C/fgYGO6ah6GjV8JRyxYH2FzGiK59sebsc/m9h9k2DNGfhUceOmYYkhGOyEBPPHtqhkcmJjA1M33nZWJiDDOrl/AJjZPnVuKCnbF1Ul/M2Hdffh5GrOcjjOlaD2O33oQiVYFWhzBi1SzcchLCIfixEMIh+HWIdsf2OcMwevWVRK9eIT46HP4+bxMfdORndQHDJ6zAbXsdtwNP8MCW0f2w9KipeoOKhPh4REfzYsFkXjExiFPnocKc72GSFPkcfKi6S67Djc3o0aY3Tj1VPb2beDzciYmL5sBYftyqQPDjIIRD8MsQ4XQf4/p3wbLrtuotyRPubIwZ/fVxzsRTvYXEI/jtG5gbncSYNvUxaMZmmFi8gX9IyucgnG6vQ8fmnbD9mg3cnC2wc8lkLNl9A4EaE/UvT23ESv11cAj50PIvgeDbI4RD8MsQ5PAEB9fvwTP3j6d+EsLdcER/InZcfCanklTEwM7kEBbrT8DI4cPw7+jx0F94CJaOKX1IUTTubByHHr2GYefJq7h8/jjO3HgInwhNgQjGxe0bsHLzHYQK3RD8YAjhEKQeCZGwMbmK8/eeIljTCY8Jh4u9PVz8v2+uPj4uDrEazz//MLF4fmsnlmw+C+/ETBGvHA+Gv78/gsPCERIcKP0fjKiYFF7eHe2ANeMGYs6O2wiNikRoaNg7z0cnUT5W2L5xNc5aeKi3CAQ/DkI4BKlGvJ81ZvergcbjN8JVIy3v8+QoevVoj0XXXqu36CYuKgSebi5wcnKGs/MHXk5OcHLkyxGOTm4IDP06cwDR/vY4uWsTLj12wqfKzceIjwmFze0d6N22FaZuvgS/SB17jo+A+e0z2H7iNnwjRbgh+PEQwiFINbzNTqJ9qSIYsPQMwhLtXSzurRuByiVqYK+Jl3qbbiJ8bXH2wC5s2rAF27Zs0/3avA07duzD8ZOnceb0SZw4ewM2zl/vthwB9ha4eek+PENS6a5UMf4wvX0BB/bvw+nLN+Ac+P78SJjHGxheM4BzQMrnTgSCb4EQDkEqEQfjIzNQomgDrLmgEVlEu2LZkBYo3WQyLHVcaKdJXHQo3J0dYGf3Bm/eJPOSPnNwdIG3ry/8/N7irV8gwj4h/eTt7Q1TUy6LNZH/ftrLDE8em+LOtWu4dcdQx+ef85L2+dQcFs+ewfzpEzx+bPbedwxu3MCtm3fx+MkT+f2jR4/g4qK6vkQg+BEQwiFIHeL8cXh6ExRt1AMX7ZLmMqKcDfBPs6KoN2UvfFMr3/MZ0PjOmDFDfs2aNevTX7PnQH/eXOjPma378894zZ4zB3PUr9k6Pp+jPxdz5+rLn82cOROTJ0/GNUm8BIIfBSEcglQh1tcKE5tWQtPe82Afqd4oYX97OxoWLIUZB4wTVycld3PB2MhgONq9wnMbG7x48eLjL5vneP7qDbyDPn4zp7i4ON3XVvwkL5ZfIPhREMIhSBW8nx1EvXLl0Xf2JSTpRjRubByMvCXa47CpN8LdHPDK2h7JmflQdytsWjwb48ZNkL3sj74mjMPYmStwycJNvQeBQPAtEMIhSBWeHZmI4vkLYviOx+otvP/TY0xsWRjFOk2AdUA4Hh3fh4MnHyd7Y8C4mAj4eLjL+XxXV9dPeLnAxd0LgeHixuMCwbdECIfgy0kIwqHp3ZEhzZ+o33shbpk8xdMnD3By91r0bV4BNTr1x8GzJ7F9+1YYp/hiOYFA8KMhhEPwxcT5WWBM1yrIX7crps9dhhXLV2D9tt24+ugFHF4YY/vaRViyZhMum7xONtr4WYmPjUm8xiMmMgJRsSm8GFAg+AkRwiH4Yt4+PoL2lfOhz8brCJEMaWiAH4JCIhKfK4G4GERERmncuuO/QXSwBwwuHMXxs3fx4vUL3Lp4BHuPXYGtR2jSuQsE/0GEcAi+kHgY75+NcnlrYdMn3DzwP0NcGF5bPsCVcycwr1sXzFhzEq+cHHBl/XLMmX8YzuFCOgT/XYRwCL6MWB/smNgI2ar2ww3bX+e5EQmRofByfgUbkysY1f0fHHiguj26zf4laNt+Au65aKxJFgj+YwjhEHwZkW44vLgvRizdh1/KVsoBRQKeX16DXiMW4tlbbojG5VUj0KDnTDzxSaVblAgEPyBCOARfRkIcIsKCEB7xKy6JDcWFlaMwdNkRBPBtyAvMH9EBIzdcQIiYIxf8hxHCIRB8LiGvMW9Qa/ScsRNvXJzw4MwWTNZfCxPXMPUXBIL/JkI4BILPJOjlJQzu0wlT1h3EjRtXceLUFVg6fb079QoEPwpCOASCz8T6zHL0H6EPC99YRPOeUil9oJNA8JMihEMgSDHx8HV4jFVje6BNv2m4/cbvP3eNikDwIYRwCAQpJhau1kY4c/QADhw/hduWzogSyiH4hRDCIRB8Bgka94bX/F8g+BUQwiEQCASCFCGEQyAQCAQpQgiHQCAQCFKEEA6BQCAQpAghHAKBQCBIEUI4BAKBQJAihHAIBAKBIEUI4RAIBAJBihDCIRAIBIIUIYRDIBAIBClCCIdAIBAIUoQQDoFAIBCkCCEcAoFAIEgRQjgEAoFAkCKEcAgEAoEgRQjhEAgEAkGKEMIhEAgEghQhhEMgEAgEKUIIh0AgEAhShBAOgUAgEKQIIRwCgUAgSBFCOAQCgUCQIoRwCAQCgSBFCOEQCAQCQYoQwiEQCASCFCGEQyAQCAQpQgiHQCAQCFKEEA6BQCAQpAghHIKfgsgAd1g9s4Szb6h6i0Ag+F4I4RB8ETGBTri8czM2H7gKp4AY9VZNImF19wzWbdwJIztf9baUEgeTLVNQLncxjFh7Q9qjQCD4ngjhEHwRsf7PMaNVYfwva1Vsu22v3ppEvJ8lprQphj/z1MMBMy/11pQSh2fHVqJNrZaYu88Y0eqtAoHg+yCE4xcjPj5e/V9qEYUbm0Yg6+8Z0WPpOQRr7d7NaA8a5E0PvV7L4RCaoN6acuLjIuHvH4iw6NQuv0AgSClCOH4RYmJicOXKFUybNg0zZ87EnTt3EBcXp/70y/A3P442xdKhaLPJeOajka5KCMOVVf2QPWNRTNlvglj15qhQf3i6u8LN3RshUZpikoCIYH+4u3sgPEbanhAJH29PBIRHIyYqFP6+fggJi5a+pUFsOPy8PODq5g6fwDD1RhVxkeHwlfblExiueh8RJB3XHb7BGsmuhBiEBHjCzU0qj5ub/HKXvuPOv25+iNAQKpbNQyq3u6c3pCK9Q3REMAL8gxD7+dooEPw0COH4BaBo7Nq1C4ULF0aaNGnkV6lSpXD8+PHUiUAiHbGsX3VkylsD2x66qjdKNt3vOaa3LI6clbviymvJeEd44u6J9RjWuw3q1qyMqtUbY8CE5bj/wgOqUoTjzr6ZaNayBbYeOYdjK6egXuOWWHjZAlZXV6Nj/daYt8lUJUAJUbA3voKlkwahZcNa0KtSDc3+Hobt5x4hKEreGd6aXMTIpi0wYNFhPDK5iYUju6Jm1WpoM2AKzhrbq/YT8Qa753ZA1coVUVX6rHqNmqhTtw5q1qiODv3X4NXbOMSGuuPyvlUY2q0NalWvgup1GmHI9PUwVs/ZJIS54sjCAWjV5R+cMneXtwkE/2WEcPwCPH/+HHp6erJgZMyYERkyZJD/r1evHhwdHdXf+hLi8WjnWBTInA29F1+SzL8K94fbUTNfLjQZvhlvJWUIsTmBMf2bove/07Bo8WLMGN0b5QrlQLXOs2Hty+gnDCeXdMefv6VBlQZtMGzoBEycswznrJ1guHMIcqXJhF6Tr6sMfrgLdkwcga6dB2DmgkVYqD8FHWqVQp4SDbHhngO/AY+be9AkfVpkKd8Yg0eOx9RpUzCidwvkyfgnSjQfCiN3KfKIe4s7xxZj0oRxmDR1JmZN/hf1imaU6icrBiw7jzApgPJ8egy9enVB/5Es90JMHd4dJfLlRqNBC+EQKglHiC1WDqyCnMVrYcOdN/KxBYL/MkI4fgFu3ryJbNmy4c8//0SmTJnk1++//468efPCxMRE/a0vI/DlRbQtlwOl207Es0BuicblRT2RO08JzDpuJX8nMsANDo4OCA6PRnhIANxsbmNom/JIl7si9plw4jwKF9YMkITjN1T4ewbM3JJST0a7hqFw+nz4Z9ZtyMmwmBA42zrByzcEUZFh8Pd2xOmlA5AvU2Z00L8gf8fn/hF0yJIemYs2wcaLlohkWCMZ+WXda+HPrCUx+9JL7ukdnAx3ommpgmjUdwXsglRxUJivG167eCA4Ikout6PFVfxTtziylmyEI1YB0jfi4e1gBdPHlvAN1bWyTCD4byGE4xfg6dOnKFu2rBxlMNpQIo5q1arB1tZW/a0vJMoTm4fXRdaijSUR8AcibDCxTQUU0euO+y4Rqu9Ixt7y7kksnzMZg3p3Q5umjVG6QA5kLFAaa28z8onGuZV9kC5jJozZdk0lEGo0hUM1vZAAb7tH2Lt+IcaMGIC/27ZC/WolkeHPHGgz6DCCpW+8vX8IrTJnQbmuC/AqRP6RRAxuzhyA3OmKYMS+d0UzwskQw5uUQoFavXD1uXQOClH+ML16CItmjsOgXt3RsllDlMmbGX+UboCVRm7qLwkEvw5COH4BIiMjsWrVKuTMmVMWDL4YbWzbtk2e/0gd4vH46GyUyJ4fo3fcg7PJQTQtkRPNxx+EynEPg9H+2ahVrBCa9BiJtdsP4szx/Rj8dz2ky1cKq28xvRSNs5JwZJaio4VH76jnPVQkCsfsO2BSK+DFdQxvUR7Fq7TEtGUbcfjkKWxfNASlpd+27CMdU/rO27sH0TJbDugNXguHxOAlEjem90fe9EUxWkM4EkIcsWF4Q2TPVw0LL1onHTsuGDe2TEalooXRrN94bNpxACeP7cG/TasgbbG6WGaUNKcjEPwqCOH4RQgNDcW+ffvQq1cv9OnTB8eOHUN0dOpeERH86ip6VCuEGj1mYuWcQShRoDJWXVWlgxICzDG9XR5kzdcV16wU998fy0Y1w5+5ir8rHFmzYd7h27JAKCQKx5x70rt43FwzEtkz5sSoXfdVX5B4c34RKmbOhOaawpE1ByoPXA37ROGIwPXp/VTCsV8RjnDc3j4epQoWwj/LLiIxOJGI8TLC4MZ5kbdifxi6KPXlgSXda+OPwrWEcAh+SYRw/GJQLFIvytAi2gPbJnRCkZwVUa5cXpRoPRGm7ipjG+f7FJNa58Jf2Rti142XCPD1gumZDWhaJjv+zFMKa9SpKgpHpixZMfc94RiKQunyShEHhSIWF1cMRfrfM6H7gqNw8/WH28vbmNOzFtKmyYLW/dWpKkk4WmTJjkoDVr0nHHnSFcGo/WbS+3g43dmGRsWyo0SbMbhn6yWVzQdeXl7wCwhHmPMdDGqYDZmKtcHRhw7wf+sBw0PLUKdQJqQpXg8rjT2lXYTh8ZXdWL1hD565acqOQPDfRAiHIBVJwPNzy1E5O9NhGdFn2Vl1mkoiLgR3dkxBlQLZUbBUJTRp1RVjxk5Gu8Z6+C1HESy7zqvOo3BqSVf8lS4dZuy7/o5wGGwZiJxpsqL3lJtyGsnX/CwGNiqNrLmLonr9Zug1dAQm/NtGEpf0aNhtHzg/73NrDxpI70v3XAq7xFtchePyxG7IkiYPRh58ihBPU/zbrLicvstatAIaNm2Cxg0boHatWmjffTWsHLxwfdMElM2bDQXLVkGzVt0wdsxE9NAriTQFq2GxsTcQ9hpzOxdEmqwlsfjqi3evMxEI/oMI4RCkKhE+1ti5ejrGTF2FO9bv3mIkIcIPJhf3YOaY0Zi+eBcs7N1w//JBTNVfjLuv/KRvxMLy9gHMmDULV5+8fscAOxifwPyp+jhy+bVaUGLhZn0PGxZMw5hJc3DcwAbOr+5j47yZ2HLATL6fVaidGbbOmo0Vh+/CV31tByfHX148BP1pi3DhmTv8nMywRH8qJkyajCmTJmDM6NEYPXoURowYgalzjsDONw4JUb64f2obpo4bjdmr9sPK0QUPj+3AtIVrcctRijAkUTS5sA3L1uzAUxcmyQSC/zZCOAQCgUCQIoRwCAQCgSBFCOEQCAQCQYoQwiEQCASCFCGEQyAQCAQpQgiHQCAQCFKEEA6BQCAQpAghHAKBQCBIEUI4BIIvJDzYF+6eAYj/RpeM8wmKru4BiNG8C6RA8A0RwiEQfAExgY64fvo8Hlq6v3OLFMREICws9KsY98gAJ9y8cg2PXnmJ25sIvgtCOASCzyU+HI8u7cW+k3cRqL6lSbi/F15ZPMaZ7YuwessuuKkfRZK6xMPz+XXs2HUIzz0S76UiEHwzhHAIvhtxkaF46/sW/iE/p/ELcbiHtWtWwNAx8Q6KCHB6gbtnT2Le6M7oMGIG7JM+Sl2ivXFx81Lsv2QCIR2Cb40QDsF3IAGB7na4df4MDu/fhHnT5mD/VXNEfve8SxyC/bzhE0xTHAt/by/4y//rIgZPj2/FogUH4CU/BF1FQnwcYmPCcWHnFPw9di7sP/cu6wkx8PP2RGAYdx4DL1cnuPu+u7NXd7ZjysaDsAsWCSvBt0UIh+CbExvwApuXLcLW04/w1tsFt3fPQuvGPXDI4Hs+hjUBoT4OuHZsJ1YvWIOzl67jxJ7NWL5+L5776BCPWF8cXTMfs7cZvTu3IROPq7unfr5wJMTB39ECpw+sx/Jt+3Dx+j1cOXUAW3fuxf0XXvJt5Yn389uYNGoDDGz59BGB4NshhEPwzYlwuIX+HWph0AbVszXgbYJRNUti0LzjCJe/8R2IC8Hzpw9x++51LOjYBmNXnITxjT0YMmIMLr2k9Y9HaKAffIPCVGUOscfGNcOw+IYN32kRg8u73o84EuLjpWgkWn6YVnIvrsyKjfSHuYEJTG/sxT8DOkN/jyFCwkJxZ+88DJ7BeRNVhBHsaIxVQybh8mPxFELBt0UIh+CbEx/pB3Pju3j0yl02wlEuBhhcrwJGrLmErzKX/CnERiAwwBdOVlcxqudQHDX1QEyYB6xf2CIoWjLUEa7YOnMQ+s8/AG8+QDHgORYtGIQVBnaq37+DbuGICwuAvZUZjE1MYPbY7J2XqekjmD42h6tfCKKlsvj4hcLm0noMGDoWt51UEY/hzrFo2308LPxVMUeEmzl2jByCCw/fyO8Fgm+FEA7BdyYGDw/OQZvOo3H5BR/m9H2xu74avYfNh7mn1vPYo97i6oH1WH30LgKZmwqwwdLF/2D5fV3CEZskHBqT4/FRofB0ssWr17awtdV+vYatnQN8gyPUS2yjcGXzLAyfthVuclH8sHNUZ3QdsQEe6qKFuzzGln+H4oIxn9cuEHw7hHAIviMJcHt2DfqzZ+PYA7sf4JqEcFxcNBTD5+5URRUfItQZW1aOxLxzz9Qb3uX63mnoPmEBXLX055OJtMfqMQMxYa3q2euhr29g1N//YMPlV4lzHIFvHmLJkLm4Yf7ukxYFgq+NEA7BdyPQ0xonDx3DPUtPSUMi8NbXG+HvzzR/O8JeY9nIQVh8wFCKgz5CfCDOrl+MWatuvJNeC/exxa1TOzCqTwtUbdIOC7cdgcELj0Rj/6mEOdzDhBYNMXj6XpiaGeH4luXYePC6xiNwATfzCxg7fSceu/JBuQLBt0MIh+CrkxAXi5joaMTGxSVGFaHeL3H68DHcfPQawSHBcHx0A9dv34f/9xSOCB88MjLDC/dPufgiAXY392HRos2wC1Nvkgj3fo1rJ3Zh+87d2Lt7F7btOYy7z1VzOSnh1c3dGNjjX+y+8ACmxoYwMrNKvMhQRRyenluDhftOwyu5FcMCwVdCCIcgVfF3ssKFw7uwbt1abNiyDTu2bsTS+TMxcfw4TJ65AQ+eBwBRbtg/pzv0KldDqw6d0KFtU9Sq/zc2nnmWYgP7PYnxt8HuratxyTyVlxEnhOLC+nHoNXln4nyGNnGBr3B081pceeTwU9WZ4L+BEA5BKhGD5zf3YGCrhqhepyk6dmiBykVy4K9seVCpcRv83bEjuvadiStPfCXP3hmXD63GgoULJY99EebPnYN56/bD1PkjFz3EhsHpuRnu3rkHg3sGybzu477019DgAYwMDXFf+mv5xhPRX8m6Oj++jP37zsM5ILXc/mg4PLmCScO6o+fohbinK1pJCIfNw/M4duke/ES0IfgOCOEQpALxsL25A61r1UCfqZvw0NoeXh5OMDg0H5WLVsTAJWfh7usHX/8gRMV9wRR4TDAsDS9i7+59OLD/IA7qeB3Ytx/79x/FuYvXcOfObdy4dRumL90Q9dXc8ki8fvoYz175qN9/KQkI8HKCtY0NXti8gtvb98U0OsQDpiZWcAv6nnk9wa+MEA7BFxPlZYrJbSqhdo/FsNOwc/F+TzGmUk30m3wcGtMAX0CCfAFdREQEIiMik3lFSJ9HIiY2FvHx8YiLj5P+flysQkJCcPToUaxZswabNm365NfmLVuxZesWbFi/Uefn7702b8H2HTuwY8d2bNm8Wed3tmzdmvidrVve/87GDRuxYcNmbNmyRf3/Brx+/Vp9JgLB10cIh+ALiYf58QWoVKASlp5/9yrqMOe76FG2MrqPP4Qg9bYflbCwMFy4cAG7d++WIhZGLZ/+OnDwIA5JrwM6PtN8HTh4CIcO7MXGNcuxYu0m7Dt4WP7de989cAAHlNf+A+99fuAAj8fP92OfFGHt27cPDg7iWg7Bt0MIh+DLiA/CAf1OyFN7IK7bvhtXONxchYplK2HyXrPUmcCNCYWVyU0cPnwEJ06c+Pjr+DEcPnYct5/aIeKHyOpEws3uCS6ePoytmzbi3MMXH1/2KxD8gAjhEHwZcX7YNb0VSvSchqcB6m0kwR87R7ZGtVZD8dAjlW4kEhMAwysHsGjxEixfvgIrVnzktXwZFi1bjsO3zRH6AwhHqMMdrFq+BDdt/OFqdhT/DJ2Dm680K00g+DkQwiH4QqJhuGsKqrcbhmuO6gvREsLx+NwKdGrRFevO2+i4e+yvSZS/He5evwEH3ziE2V/DoP5TcMbcW/2pQPDzIIRD8MWEu1tgzdRRGDN9FQ4dP44961dj+tSZ2HfjGdQ3chW8QzDuHd+ApTvOwiNUXIUh+PkQwiFIFcK97XHv/FmcPXsG5y/cxHOHt+pPfj1C/T3h6ukv/x/i4wJbBxeNW6nEw9nmEc6fvw9X3xDExsf/APfoEghShhAOgSAViQ70gPHVg1i1bhW2H7+Ku1cvYO+OTTh0zRR+4dFwf26Cc6eu4dkLB9g9NoGdb4AQDsFPhxAOgSDViIOTtTnM7t/Bxnk90GnsOrzxC8VbywsY9e90HLtlhB3zh6BL154Y9M9gjJqzAy98v9ujqwSCz0YIh0CQasQiIDAYPnaPsODf7lhwRnXL9fBXZzGgXSusOf8YTo42eGJmBhMTU1jaeyJSrBwQ/IQI4RAIUhkvi7MY3m8MrrxQXfZoc3IJWjfshQvPA+X3AsHPjhAOgSBViYPpkXno2nchrAMSgCgP7Jr6L4bNOfHxh0MJBD8JQjgEgtQkPgDHp/dG69ajcfquKe6e3YWVq7fD3PVTnvEhEPwcCOEQCFKROD9L6A8ehFnrT8LE1AwPjR7BSUyAC/5jCOEQCFKNBHiY7EfPXiNw1vpHv62jQPD5COEQCFKJUK8X2LlsPDr0GIhNJx/AL1JcFS74byKEQyBIJSKDvPDc2hKWllZ4aeuM0BhxaZ/gv4kQDoFAIBCkCCEcAoFAIEgRQjgEAoFAkCKEcAgEAoEgRQjhEAgEAkEKAP4ff7R3yQ52hoAAAAAASUVORK5CYII=)"
      ],
      "metadata": {
        "id": "H_mv9kdDHM_u"
      }
    },
    {
      "cell_type": "markdown",
      "source": [
        "3. Con la primer parametrización sustituyendo $r=3$ y $p=0.2$\n",
        "\n",
        "$$\\mathbb{E}[X]=\\frac{r}{p} = \\frac{3}{0.2} = 15$$\n",
        "\n",
        "$$\\text{Var}[X]=\\frac{r(1-p)}{p^2} = \\frac{3(1-0.2)}{0.2^2}=60$$\n"
      ],
      "metadata": {
        "id": "pEBeyisAD_Zs"
      }
    },
    {
      "cell_type": "markdown",
      "source": [
        "Para utilizar **.nbinom** debemos realizar un ajuste para poder obtener la misma esperanza (ya que en la varianza tenemos exactamente la misma estructura)\n",
        "<br>\n",
        "Queremos obtener como $\\mathbb{E}[X]=15\\;\\;$ utilizando $\\;\\;\\mathbb{E}[X]=\\frac{r(1-p)}{p}\\;\\;$ con $\\;\\;r=3$\n",
        "<br>\n",
        "<br>\n",
        "$$\n",
        "\\Rightarrow 15 = \\mathbb{E}[X]=\\frac{r(1-p)}{p}=\\frac{3(1-p)}{p}\n",
        "$$\n",
        "<br>\n",
        "\n",
        "Despejando obtenemos $p=\\frac{1}{6}.$"
      ],
      "metadata": {
        "id": "QFGjbpMBJAl3"
      }
    },
    {
      "cell_type": "markdown",
      "source": [
        "Verificamos con python"
      ],
      "metadata": {
        "id": "WfSXK0LkFBpW"
      }
    },
    {
      "cell_type": "code",
      "source": [
        "# Esperanza y Varianza\n",
        "\n",
        "p_original=0.2\n",
        "p_ajustada = 1/6\n",
        "r_c = 3\n",
        "esperanza = sps.nbinom.mean(r_c,p_ajustada)\n",
        "varianza = sps.nbinom.var(r_c, p_original)\n",
        "\n",
        "print(\"E[X]=\",esperanza)\n",
        "print(\"Var[X]=\",varianza)"
      ],
      "metadata": {
        "colab": {
          "base_uri": "https://localhost:8080/"
        },
        "id": "623JDtDU-pyL",
        "outputId": "3c71ae54-637f-40d3-d71f-eaa3ae5a4813"
      },
      "execution_count": null,
      "outputs": [
        {
          "output_type": "stream",
          "name": "stdout",
          "text": [
            "E[X]= 15.0\n",
            "Var[X]= 60.0\n"
          ]
        }
      ]
    }
  ]
}