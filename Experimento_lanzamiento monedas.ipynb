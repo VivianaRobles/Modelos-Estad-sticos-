{
  "nbformat": 4,
  "nbformat_minor": 0,
  "metadata": {
    "colab": {
      "provenance": [],
      "include_colab_link": true
    },
    "kernelspec": {
      "name": "python3",
      "display_name": "Python 3"
    },
    "language_info": {
      "name": "python"
    }
  },
  "cells": [
    {
      "cell_type": "markdown",
      "metadata": {
        "id": "view-in-github",
        "colab_type": "text"
      },
      "source": [
        "<a href=\"https://colab.research.google.com/github/VivianaRobles/Modelos-Estad-sticos-/blob/main/Experimento_lanzamiento%20monedas.ipynb\" target=\"_parent\"><img src=\"https://colab.research.google.com/assets/colab-badge.svg\" alt=\"Open In Colab\"/></a>"
      ]
    },
    {
      "cell_type": "markdown",
      "source": [
        "# **Equipo 7**\n",
        "\n",
        "**Integrantes**\n",
        "* Camacho Herrera Jesús Salvador\n",
        "* Flores Solis Eduardo Elías\n",
        "* Garcia Robles Viviana\n",
        "* Mendoza López Luis Ángel\n",
        "\n",
        "\n",
        "\n",
        "\n"
      ],
      "metadata": {
        "id": "MOgVGyRCLSWw"
      }
    },
    {
      "cell_type": "code",
      "source": [],
      "metadata": {
        "id": "7u-QDTwO6EzO"
      },
      "execution_count": null,
      "outputs": []
    },
    {
      "cell_type": "markdown",
      "source": [
        "## **Comparte tu actividad 01/06**\n",
        "### ***Lanzamiento de 3 monedas***"
      ],
      "metadata": {
        "id": "34lbhDecL3jY"
      }
    },
    {
      "cell_type": "markdown",
      "source": [
        "Se tiene el siguiente experimento aleatorio. Se lanzan, de manera independiente, 3 monedas.\n",
        "\n",
        "* **Espacio Muestral\n",
        "$$ \\Omega= \\left\\{ A,S \\right\\}\\times \\left\\{ A,S \\right\\} \\times \\left\\{ A,S \\right\\}=\\left\\{ A,S \\right\\}^3$$**\n",
        "\n",
        "$$ \\text{card}(\\Omega)=2^3=8$$"
      ],
      "metadata": {
        "id": "-3b1zaMpMAXs"
      }
    },
    {
      "cell_type": "code",
      "execution_count": null,
      "metadata": {
        "colab": {
          "base_uri": "https://localhost:8080/"
        },
        "id": "ia9R0G7HLCFQ",
        "outputId": "57f3022b-621e-4312-9c2c-371cba5b2d89"
      },
      "outputs": [
        {
          "output_type": "execute_result",
          "data": {
            "text/plain": [
              "{('A', 'A', 'A'),\n",
              " ('A', 'A', 'S'),\n",
              " ('A', 'S', 'A'),\n",
              " ('A', 'S', 'S'),\n",
              " ('S', 'A', 'A'),\n",
              " ('S', 'A', 'S'),\n",
              " ('S', 'S', 'A'),\n",
              " ('S', 'S', 'S')}"
            ]
          },
          "metadata": {},
          "execution_count": 1
        }
      ],
      "source": [
        "#Vamos a crear el código para Omega\n",
        "import itertools #Importamos la libería\n",
        "from itertools import product #De esa librería queremos que nos importe esa función\n",
        "Omega = set(product({\"A\",\"S\"},repeat=3))\n",
        "Omega"
      ]
    },
    {
      "cell_type": "markdown",
      "source": [
        "##### **Consideremos los siguientes eventos**\n",
        "* A: Todas las caras sean águilas.\n",
        "* S: Todas las caras sean soles.\n",
        "* E: Por lo menos una cara sea sol."
      ],
      "metadata": {
        "id": "iWlOpnmGMOBf"
      }
    },
    {
      "cell_type": "markdown",
      "source": [
        "**Utilizando la función creada en clase**"
      ],
      "metadata": {
        "id": "wcRV7te2Md_U"
      }
    },
    {
      "cell_type": "code",
      "source": [
        "from fractions import Fraction #Para fines estéticos de usar fracciones en vez de decimales\n",
        "def P(a,Omega):\n",
        "  p = Fraction(len(a)/len(Omega))\n",
        "  return  p"
      ],
      "metadata": {
        "id": "miP3oyQFMi0S"
      },
      "execution_count": null,
      "outputs": []
    },
    {
      "cell_type": "code",
      "source": [
        "#Probabiidad del Evento A\n",
        "A={om for om in Omega if om.count(\"A\")==3}\n",
        "print(\"Mostrando nuestro evento A:  \",A)\n",
        "print(\"P(A)=\",P(A,Omega))\n",
        "print(\"\\n\")\n",
        "#Probabilida del Evento S\n",
        "S={om for om in Omega if om.count(\"S\")==3}\n",
        "print(\"Mostrando nuestro evento S:  \",S)\n",
        "print(\"P(S)=\",P(S,Omega))\n"
      ],
      "metadata": {
        "colab": {
          "base_uri": "https://localhost:8080/"
        },
        "id": "fwbQp6tXMjWV",
        "outputId": "fe7a3faa-f341-48cb-aaca-c694359c1f7f"
      },
      "execution_count": null,
      "outputs": [
        {
          "output_type": "stream",
          "name": "stdout",
          "text": [
            "Mostrando nuestro evento A:   {('A', 'A', 'A')}\n",
            "P(A)= 1/8\n",
            "\n",
            "\n",
            "Mostrando nuestro evento S:   {('S', 'S', 'S')}\n",
            "P(S)= 1/8\n"
          ]
        }
      ]
    },
    {
      "cell_type": "markdown",
      "source": [
        "Obteniendo la probabilidad del evento E"
      ],
      "metadata": {
        "id": "LjMjouPVNLY2"
      }
    },
    {
      "cell_type": "code",
      "source": [
        "E={om for om in Omega if om.count(\"S\")>=1}\n",
        "print(\"Mostrando nuestro evento E:  \",E)\n",
        "print(\"P(E)=\",P(E,Omega))"
      ],
      "metadata": {
        "colab": {
          "base_uri": "https://localhost:8080/"
        },
        "id": "AUfjK0mvNOO9",
        "outputId": "f11026f0-6bdc-48ca-c684-539b8a4a3eaf"
      },
      "execution_count": null,
      "outputs": [
        {
          "output_type": "stream",
          "name": "stdout",
          "text": [
            "Mostrando nuestro evento E:   {('A', 'S', 'S'), ('A', 'S', 'A'), ('S', 'S', 'A'), ('S', 'A', 'S'), ('S', 'A', 'A'), ('A', 'A', 'S'), ('S', 'S', 'S')}\n",
            "P(E)= 7/8\n"
          ]
        }
      ]
    },
    {
      "cell_type": "markdown",
      "source": [
        "Agregando otros eventos:\n",
        "* F: Que exactamente una cara sea sol o águila\n",
        "* G: Que salgan 2 águilas y 1 sol\n",
        "* H: Que no salga ni 1 sol ni 1 águila\n"
      ],
      "metadata": {
        "id": "Et08uEibNI3u"
      }
    },
    {
      "cell_type": "code",
      "source": [
        "#Probabilidad del evento F\n",
        "F={om for om in Omega if om.count(\"A\")==1 or om.count(\"S\")==1}\n",
        "print(\"Mostrando nuestro evento F:  \",F)\n",
        "print(\"P(F)=\",P(F,Omega))\n",
        "print(\"\\n\")\n",
        "\n",
        "#Probabilidad del evento G\n",
        "G={om for om in Omega if om.count(\"A\")==2 and om.count(\"S\")==1}\n",
        "print(\"Mostrando nuestro evento G:  \",G)\n",
        "print(\"P(G)=\",P(G,Omega))\n",
        "print(\"\\n\")\n",
        "\n",
        "#Probabilidad del evento H\n",
        "H={om for om in Omega if om.count(\"A\")==0 and om.count(\"S\")==0}\n",
        "print(\"Mostrando nuestro evento H:  \",H)\n",
        "print(\"P(H)=\",P(H,Omega))\n",
        "print(\"\\n\")\n"
      ],
      "metadata": {
        "colab": {
          "base_uri": "https://localhost:8080/"
        },
        "id": "kzGOIxIZNIOl",
        "outputId": "5a93d933-ed79-4f5a-f1f2-4138191060a1"
      },
      "execution_count": null,
      "outputs": [
        {
          "output_type": "stream",
          "name": "stdout",
          "text": [
            "Mostrando nuestro evento F:   {('A', 'S', 'S'), ('A', 'S', 'A'), ('S', 'S', 'A'), ('S', 'A', 'S'), ('S', 'A', 'A'), ('A', 'A', 'S')}\n",
            "P(F)= 3/4\n",
            "\n",
            "\n",
            "Mostrando nuestro evento G:   {('S', 'A', 'A'), ('A', 'S', 'A'), ('A', 'A', 'S')}\n",
            "P(G)= 3/8\n",
            "\n",
            "\n",
            "Mostrando nuestro evento H:   set()\n",
            "P(H)= 0\n",
            "\n",
            "\n"
          ]
        }
      ]
    }
  ]
}